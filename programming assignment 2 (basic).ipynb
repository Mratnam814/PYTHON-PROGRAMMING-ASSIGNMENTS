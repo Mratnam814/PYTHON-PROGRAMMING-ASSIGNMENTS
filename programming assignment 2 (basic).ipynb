{
 "cells": [
  {
   "cell_type": "markdown",
   "id": "88574ccd",
   "metadata": {},
   "source": [
    "1. Write a Python program to convert kilometers to miles?"
   ]
  },
  {
   "cell_type": "code",
   "execution_count": 1,
   "id": "947e9c89",
   "metadata": {},
   "outputs": [
    {
     "name": "stdout",
     "output_type": "stream",
     "text": [
      "Kilometer:6\n",
      "miles: 3.728227152\n"
     ]
    }
   ],
   "source": [
    "try:\n",
    "    a=float(input(\"Kilometer:\"))\n",
    "    d= 0.621371192\n",
    "    c=a*d\n",
    "    print(\"miles:\",c)\n",
    "except ValueError:\n",
    "    print(\"enter numbers only\")\n",
    "    "
   ]
  },
  {
   "cell_type": "markdown",
   "id": "8fe2eba7",
   "metadata": {},
   "source": [
    "2. Write a Python program to convert Celsius to Fahrenheit?"
   ]
  },
  {
   "cell_type": "code",
   "execution_count": 2,
   "id": "1ed9f807",
   "metadata": {},
   "outputs": [
    {
     "name": "stdout",
     "output_type": "stream",
     "text": [
      "celsius:78\n",
      "fahrenheit: 172.4\n"
     ]
    }
   ],
   "source": [
    "try:\n",
    "    c=float(input(\"celsius:\"))\n",
    "    d=(c*1.8)+32\n",
    "    print(\"fahrenheit:\",d)\n",
    "except ValueError as v:\n",
    "    print(v)"
   ]
  },
  {
   "cell_type": "markdown",
   "id": "c368a8b8",
   "metadata": {},
   "source": [
    "3. Write a Python program to display calendar?"
   ]
  },
  {
   "cell_type": "code",
   "execution_count": 3,
   "id": "fb08dc63",
   "metadata": {},
   "outputs": [
    {
     "name": "stdout",
     "output_type": "stream",
     "text": [
      "enter the year7\n",
      "enter the month:12\n",
      "     December 7\n",
      "Mo Tu We Th Fr Sa Su\n",
      "                1  2\n",
      " 3  4  5  6  7  8  9\n",
      "10 11 12 13 14 15 16\n",
      "17 18 19 20 21 22 23\n",
      "24 25 26 27 28 29 30\n",
      "31\n",
      "\n"
     ]
    }
   ],
   "source": [
    "import calendar\n",
    "try:\n",
    "    \n",
    "    year=int(input(\"enter the year\"))\n",
    "    month=int(input(\"enter the month:\"))\n",
    "    MeraWaalaCalendar= calendar.month(year,month)\n",
    "    print(MeraWaalaCalendar)\n",
    "except ValueError:\n",
    "    print(\"enter integers only\")\n",
    "except IndexError:\n",
    "    print(\"Enter correct index\")"
   ]
  },
  {
   "cell_type": "markdown",
   "id": "513021cc",
   "metadata": {},
   "source": [
    "4. Write a Python program to solve quadratic equation?"
   ]
  },
  {
   "cell_type": "code",
   "execution_count": 4,
   "id": "7b6f0fef",
   "metadata": {},
   "outputs": [
    {
     "name": "stdout",
     "output_type": "stream",
     "text": [
      "general form:- ax**2+b*x+c=o\n",
      "enter a(a != 0)2\n",
      "enter b:5\n",
      "enter c:6\n",
      "two complex roots\n",
      "(-5+4.795831523312719j) (-5-4.795831523312719j)\n"
     ]
    }
   ],
   "source": [
    "import cmath\n",
    "print(\"general form:- ax**2+b*x+c=o\")\n",
    "a=int(input(\"enter a(a != 0)\"))\n",
    "b=int(input(\"enter b:\"))\n",
    "c=int(input(\"enter c:\"))\n",
    "d=b*b-4*a*c\n",
    "if d>0:\n",
    "    print(\"two distinct real roots\")\n",
    "elif d==0:\n",
    "    print(\"two real equal roots\")\n",
    "elif d<0:\n",
    "    print(\"two complex roots\")\n",
    "\n",
    "Ans1=(-b+cmath.sqrt(d))/2*a\n",
    "Ans2=-b-cmath.sqrt(d)/2*a\n",
    "print(Ans1,Ans2)"
   ]
  },
  {
   "cell_type": "markdown",
   "id": "2e365220",
   "metadata": {},
   "source": [
    "5. Write a Python program to swap two variables without temp variable?"
   ]
  },
  {
   "cell_type": "code",
   "execution_count": 14,
   "id": "1ec5b598",
   "metadata": {},
   "outputs": [
    {
     "name": "stdout",
     "output_type": "stream",
     "text": [
      "a: 6\n",
      "b: 5\n"
     ]
    }
   ],
   "source": [
    "a=5\n",
    "b=6\n",
    "a,b=b,a\n",
    "print(\"a:\",a)\n",
    "print(\"b:\",b)"
   ]
  },
  {
   "cell_type": "code",
   "execution_count": null,
   "id": "cb8a21c7",
   "metadata": {},
   "outputs": [],
   "source": []
  }
 ],
 "metadata": {
  "kernelspec": {
   "display_name": "Python 3 (ipykernel)",
   "language": "python",
   "name": "python3"
  },
  "language_info": {
   "codemirror_mode": {
    "name": "ipython",
    "version": 3
   },
   "file_extension": ".py",
   "mimetype": "text/x-python",
   "name": "python",
   "nbconvert_exporter": "python",
   "pygments_lexer": "ipython3",
   "version": "3.9.12"
  }
 },
 "nbformat": 4,
 "nbformat_minor": 5
}
