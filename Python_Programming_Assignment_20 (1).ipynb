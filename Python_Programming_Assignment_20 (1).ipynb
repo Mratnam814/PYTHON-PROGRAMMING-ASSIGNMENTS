{
 "cells": [
  {
   "cell_type": "markdown",
   "id": "d86a4d9b",
   "metadata": {},
   "source": [
    "Question1\n",
    "Create a function that takes a list of strings and integers, and filters out the list so that it\n",
    "returns a list of integers only."
   ]
  },
  {
   "cell_type": "code",
   "execution_count": 4,
   "id": "4219ea7b",
   "metadata": {},
   "outputs": [
    {
     "name": "stdout",
     "output_type": "stream",
     "text": [
      "[]\n"
     ]
    }
   ],
   "source": [
    "def filter_list(n):\n",
    "    l=[]\n",
    "    for i in n:\n",
    "        if type(i)==int:\n",
    "            l.append(i)\n",
    "    print(list(set(l)))\n",
    "filter_list([\"Nothing\", \"here\"])"
   ]
  },
  {
   "cell_type": "markdown",
   "id": "df40612e",
   "metadata": {},
   "source": [
    "Question2\n",
    "Given a list of numbers, create a function which returns the list but with each element&#39;s\n",
    "index in the list added to itself. This means you add 0 to the number at index 0, add 1 to the\n",
    "number at index 1, etc..."
   ]
  },
  {
   "cell_type": "code",
   "execution_count": 8,
   "id": "2debf931",
   "metadata": {},
   "outputs": [
    {
     "data": {
      "text/plain": [
       "array([1, 3, 5, 7, 9])"
      ]
     },
     "execution_count": 8,
     "metadata": {},
     "output_type": "execute_result"
    }
   ],
   "source": [
    "def add_indexes(n):\n",
    "    import numpy as np\n",
    "    k=len(n)\n",
    "    l=[]\n",
    "    for i in range(0,k):\n",
    "        l.append(i)\n",
    "    g=np.array(n) + np.array(l)\n",
    "    return g\n",
    "    \n",
    "add_indexes([1,2,3,4,5])"
   ]
  },
  {
   "cell_type": "markdown",
   "id": "e16c85bc",
   "metadata": {},
   "source": [
    "Question3\n",
    "Create a function that takes the height and radius of a cone as arguments and returns the\n",
    "volume of the cone rounded to the nearest hundredth. See the resources tab for the formula."
   ]
  },
  {
   "cell_type": "code",
   "execution_count": 21,
   "id": "056039ab",
   "metadata": {},
   "outputs": [
    {
     "name": "stdout",
     "output_type": "stream",
     "text": [
      "Enter the height of the cone:3\n",
      "Enter the radius of the cone:2\n",
      "12.56\n"
     ]
    }
   ],
   "source": [
    "def volume():\n",
    "    import math\n",
    "    h=float(input(\"Enter the height of the cone:\"))\n",
    "    r=float(input(\"Enter the radius of the cone:\"))\n",
    "    volume = str(1/3 * (math.pi) * (r**2) *h)\n",
    "    p = volume.split(\".\")\n",
    "    l=[]\n",
    "    for i in range(0,2):\n",
    "        l.append(p[1][i])\n",
    "    p[1]=\"\".join(l)\n",
    "    k= \".\".join(p)\n",
    "    print(k)\n",
    "        \n",
    "volume()"
   ]
  },
  {
   "cell_type": "markdown",
   "id": "0435e0ef",
   "metadata": {},
   "source": [
    "Question4\n",
    "This Triangular Number Sequence is generated from a pattern of dots that form a triangle.\n",
    "The first 5 numbers of the sequence, or dots, are:\n",
    "1, 3, 6, 10, 15\n",
    "This means that the first triangle has just one dot, the second one has three dots, the third one\n",
    "has 6 dots and so on.\n",
    "Write a function that gives the number of dots with its corresponding triangle number of the\n",
    "sequence."
   ]
  },
  {
   "cell_type": "code",
   "execution_count": 5,
   "id": "259c2e58",
   "metadata": {},
   "outputs": [
    {
     "name": "stdout",
     "output_type": "stream",
     "text": [
      "21\n"
     ]
    }
   ],
   "source": [
    "def triangle(n):\n",
    "    l=[]\n",
    "    for i in range(1,n+1):\n",
    "        l.append(i)\n",
    "    sum = 0\n",
    "    for j in l:\n",
    "        sum = sum + j\n",
    "    print(sum)\n",
    "triangle(6)"
   ]
  },
  {
   "cell_type": "markdown",
   "id": "35d7d330",
   "metadata": {},
   "source": [
    "Question5\n",
    "Create a function that takes a list of numbers between 1 and 10 (excluding one number) and\n",
    "returns the missing number."
   ]
  },
  {
   "cell_type": "code",
   "execution_count": 94,
   "id": "06105239",
   "metadata": {},
   "outputs": [
    {
     "name": "stdout",
     "output_type": "stream",
     "text": [
      "missing number is 7\n"
     ]
    }
   ],
   "source": [
    "def missing_num(n):\n",
    "    n.sort()\n",
    "    l=[]\n",
    "    l1=[]\n",
    "    l2=[]\n",
    "    for i in n:\n",
    "        l1.append(str(i))\n",
    "    for i in range(1,11):\n",
    "        l.append(str(i))\n",
    "    for i in range(len(l1)):\n",
    "        if l[i] == l1[i]:\n",
    "            l2.append(i)\n",
    "        elif l[i] != l1[i]:\n",
    "            print(\"missing number is\",l[i])\n",
    "            break\n",
    "    else:\n",
    "        print(len(l))\n",
    "missing_num([10, 5, 1, 2, 4, 6, 8, 3, 9])\n",
    "        \n",
    "            \n",
    "    \n",
    "        \n",
    "        \n",
    "    \n",
    "        \n",
    "        \n",
    "        \n",
    "    \n",
    "    \n",
    "    \n",
    "    "
   ]
  },
  {
   "cell_type": "code",
   "execution_count": null,
   "id": "fc2a1554",
   "metadata": {},
   "outputs": [],
   "source": [
    "\n",
    "    \n",
    "\n",
    "\n",
    "        \n",
    "               \n",
    "               \n",
    "    \n",
    "        \n",
    "    \n"
   ]
  },
  {
   "cell_type": "code",
   "execution_count": null,
   "id": "60e2a2fd",
   "metadata": {},
   "outputs": [],
   "source": []
  },
  {
   "cell_type": "code",
   "execution_count": null,
   "id": "75de93eb",
   "metadata": {},
   "outputs": [],
   "source": []
  }
 ],
 "metadata": {
  "kernelspec": {
   "display_name": "Python 3 (ipykernel)",
   "language": "python",
   "name": "python3"
  },
  "language_info": {
   "codemirror_mode": {
    "name": "ipython",
    "version": 3
   },
   "file_extension": ".py",
   "mimetype": "text/x-python",
   "name": "python",
   "nbconvert_exporter": "python",
   "pygments_lexer": "ipython3",
   "version": "3.9.12"
  }
 },
 "nbformat": 4,
 "nbformat_minor": 5
}
