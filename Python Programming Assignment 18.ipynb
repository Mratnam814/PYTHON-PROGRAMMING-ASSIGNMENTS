{
 "cells": [
  {
   "cell_type": "markdown",
   "id": "dd39c580",
   "metadata": {},
   "source": [
    "Question 1\n",
    "Create a function that takes a list of non-negative integers and strings and return a new list\n",
    "without the strings."
   ]
  },
  {
   "cell_type": "code",
   "execution_count": 4,
   "id": "00642fb4",
   "metadata": {},
   "outputs": [
    {
     "name": "stdout",
     "output_type": "stream",
     "text": [
      "[1, 2, 123, 5]\n"
     ]
    }
   ],
   "source": [
    "def filter_list(n):\n",
    "    l=[]\n",
    "    for i in n:\n",
    "        if type(i)==int:\n",
    "            l.append(i)\n",
    "    print(list(set(l)))\n",
    "filter_list([1, 2,2,2,2,5, 5,\"4\" ,\"assff\",123])\n",
    "\n"
   ]
  },
  {
   "cell_type": "markdown",
   "id": "f760c6c6",
   "metadata": {},
   "source": [
    "Question 2\n",
    "The &quot;Reverser&quot; takes a string as input and returns that string in reverse order, with the\n",
    "opposite case."
   ]
  },
  {
   "cell_type": "code",
   "execution_count": 2,
   "id": "5ae58e02",
   "metadata": {},
   "outputs": [
    {
     "name": "stdout",
     "output_type": "stream",
     "text": [
      "dlroW olleH\n"
     ]
    }
   ],
   "source": [
    "def reverser(n):\n",
    "    n=n[::-1]\n",
    "    print(n)\n",
    "reverser(\"Hello World\")"
   ]
  },
  {
   "cell_type": "markdown",
   "id": "6117bea0",
   "metadata": {},
   "source": [
    "Question 3\n",
    "You can assign variables from lists like this:\n",
    "lst = [1, 2, 3, 4, 5, 6]\n",
    "first = lst[0]\n",
    "middle = lst[1:-1]\n",
    "last = lst[-1]\n",
    "print(first) ➞ outputs 1\n",
    "print(middle) ➞ outputs [2, 3, 4, 5]\n",
    "print(last) ➞ outputs 6\n",
    "With Python 3, you can assign variables from lists in a much more succinct way. Create\n",
    "variables first, middle and last from the given list using destructuring assignment\n",
    "(check the Resources tab for some examples), where:\n",
    "first ➞ 1\n",
    "middle ➞ [2, 3, 4, 5]\n",
    "last ➞ 6\n",
    "\n",
    "Your task is to unpack the list writeyourcodehere into three variables, being first,\n",
    "middle, and last, with middle being everything in between the first and last element. Then\n",
    "print all three variables."
   ]
  },
  {
   "cell_type": "code",
   "execution_count": 23,
   "id": "a9351208",
   "metadata": {},
   "outputs": [
    {
     "name": "stdout",
     "output_type": "stream",
     "text": [
      "Enter the number of elements you want:5\n",
      "Enter the elements:1\n",
      "Enter the elements:2\n",
      "Enter the elements:4\n",
      "Enter the elements:5\n",
      "Enter the elements:6\n",
      "[1, 2, 4, 5, 6]\n",
      "first one - 1\n",
      "middle one - [2, 4, 5]\n",
      "last one - 6\n"
     ]
    }
   ],
   "source": [
    "def unpack():\n",
    "    n=int(input(\"Enter the number of elements you want:\"))\n",
    "    l=[]\n",
    "    for i in range(n):\n",
    "        i=int(input(\"Enter the elements:\"))\n",
    "        l.append(i)\n",
    "    l1=[]\n",
    "    for i in range(1,len(l)-1):\n",
    "        l1.append(l[i])\n",
    "    print(l)\n",
    "    print(\"first one -\",l[0])\n",
    "    print(\"middle one -\",l1)\n",
    "    print(\"last one -\",l[(len(l)-1)])\n",
    "    \n",
    "    \n",
    "unpack()\n",
    "        "
   ]
  },
  {
   "cell_type": "markdown",
   "id": "21933a2f",
   "metadata": {},
   "source": [
    "Question 4\n",
    "Write a function that calculates the factorial of a number recursively.\n",
    "Examples\n",
    "factorial(5) ➞ 120\n",
    "factorial(3) ➞ 6\n",
    "factorial(1) ➞ 1\n",
    "factorial(0) ➞ 1"
   ]
  },
  {
   "cell_type": "code",
   "execution_count": 49,
   "id": "6ec4ca32",
   "metadata": {},
   "outputs": [
    {
     "data": {
      "text/plain": [
       "120"
      ]
     },
     "execution_count": 49,
     "metadata": {},
     "output_type": "execute_result"
    }
   ],
   "source": [
    "def factorial(n):\n",
    "    if n == 1:\n",
    "        return 1\n",
    "    else:\n",
    "        return n*factorial(n-1)\n",
    "\n",
    "factorial(5)"
   ]
  },
  {
   "cell_type": "code",
   "execution_count": null,
   "id": "0c459ccd",
   "metadata": {},
   "outputs": [],
   "source": []
  },
  {
   "cell_type": "code",
   "execution_count": null,
   "id": "124512fa",
   "metadata": {},
   "outputs": [],
   "source": []
  },
  {
   "cell_type": "code",
   "execution_count": null,
   "id": "a142677e",
   "metadata": {},
   "outputs": [],
   "source": []
  },
  {
   "cell_type": "code",
   "execution_count": null,
   "id": "1970ac33",
   "metadata": {},
   "outputs": [],
   "source": [
    "\n",
    "\n",
    "    "
   ]
  },
  {
   "cell_type": "code",
   "execution_count": null,
   "id": "670cd890",
   "metadata": {},
   "outputs": [],
   "source": []
  },
  {
   "cell_type": "code",
   "execution_count": null,
   "id": "e4da1a19",
   "metadata": {},
   "outputs": [],
   "source": []
  }
 ],
 "metadata": {
  "kernelspec": {
   "display_name": "Python 3 (ipykernel)",
   "language": "python",
   "name": "python3"
  },
  "language_info": {
   "codemirror_mode": {
    "name": "ipython",
    "version": 3
   },
   "file_extension": ".py",
   "mimetype": "text/x-python",
   "name": "python",
   "nbconvert_exporter": "python",
   "pygments_lexer": "ipython3",
   "version": "3.9.12"
  }
 },
 "nbformat": 4,
 "nbformat_minor": 5
}
