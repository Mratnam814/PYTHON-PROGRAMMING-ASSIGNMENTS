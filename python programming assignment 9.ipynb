{
 "cells": [
  {
   "cell_type": "markdown",
   "id": "3cb9ed12",
   "metadata": {},
   "source": [
    "1. Write a Python program to check if the given number is a Disarium Number?"
   ]
  },
  {
   "cell_type": "code",
   "execution_count": 1,
   "id": "665b2606",
   "metadata": {},
   "outputs": [
    {
     "name": "stdout",
     "output_type": "stream",
     "text": [
      "enter the number:89\n",
      "BADHAI HO!disarium number mil gya\n"
     ]
    }
   ],
   "source": [
    "def disarium_number():\n",
    "    num=int(input(\"enter the number:\"))\n",
    "    temp=num\n",
    "    add=0\n",
    "    while num>0:\n",
    "        \n",
    "        power=len(str(num))\n",
    "        dis_ar=num%10\n",
    "        add+=dis_ar**power\n",
    "        num=num//10\n",
    "    if temp==add:\n",
    "        print(\"BADHAI HO!disarium number mil gya\")\n",
    "    else:\n",
    "        print(\"disarium number nhi hai bhai\")\n",
    "    \n",
    "    \n",
    "\n",
    "disarium_number()  "
   ]
  },
  {
   "cell_type": "markdown",
   "id": "495deb9a",
   "metadata": {},
   "source": [
    "2. Write a Python program to print all disarium numbers between 1 to 100?"
   ]
  },
  {
   "cell_type": "code",
   "execution_count": 23,
   "id": "8772347f",
   "metadata": {},
   "outputs": [
    {
     "name": "stdout",
     "output_type": "stream",
     "text": [
      "1\n",
      "2\n",
      "3\n",
      "4\n",
      "5\n",
      "6\n",
      "7\n",
      "8\n",
      "9\n",
      "89\n"
     ]
    }
   ],
   "source": [
    "for i in range(1,100):\n",
    "    jod=0\n",
    "    temp=i\n",
    "    while i>0:\n",
    "        power=len(str(i))\n",
    "        new_num=i%10\n",
    "        jod+=new_num**power\n",
    "        i=i//10\n",
    "    if temp==jod:\n",
    "        print(temp)\n",
    "        \n",
    "        \n",
    "        \n",
    "        \n",
    "            \n",
    "            \n",
    "      \n",
    "      \n",
    "        \n",
    "       \n",
    "   \n"
   ]
  },
  {
   "cell_type": "markdown",
   "id": "a955f08e",
   "metadata": {},
   "source": [
    "3. Write a Python program to check if the given number is Happy Number?"
   ]
  },
  {
   "cell_type": "code",
   "execution_count": 126,
   "id": "42f097f4",
   "metadata": {},
   "outputs": [
    {
     "name": "stdout",
     "output_type": "stream",
     "text": [
      "enter the number:4\n",
      "nhi hai happy number\n"
     ]
    }
   ],
   "source": [
    "def sq_num(n):\n",
    "    add=0\n",
    "    while n>0:\n",
    "        digit=n%10\n",
    "        add+=digit**2\n",
    "        n=n//10\n",
    "    return add\n",
    "\n",
    "n=int(input(\"enter the number:\"))\n",
    "\n",
    "while n !=1 and n !=4:\n",
    "    n=sq_num(n)\n",
    "    \n",
    "    \n",
    "if n==1:\n",
    "    print(\"o bhai,ye dekho happy number\")\n",
    "else:\n",
    "    print(\"nhi hai happy number\")\n",
    "    *\n",
    "    \n",
    "    \n",
    "\n",
    "    \n",
    "\n",
    "    \n",
    "    \n"
   ]
  },
  {
   "cell_type": "markdown",
   "id": "042313b1",
   "metadata": {},
   "source": [
    "4. Write a Python program to print all happy numbers between 1 and 100?\n"
   ]
  },
  {
   "cell_type": "code",
   "execution_count": 131,
   "id": "b5b1c7c6",
   "metadata": {},
   "outputs": [
    {
     "name": "stdout",
     "output_type": "stream",
     "text": [
      "The list of happy numbers between 1 and 100 are : \n",
      "1\n",
      "7\n",
      "10\n",
      "13\n",
      "19\n",
      "23\n",
      "28\n",
      "31\n",
      "32\n",
      "44\n",
      "49\n"
     ]
    }
   ],
   "source": [
    "def sq_num(i):\n",
    "    add=0\n",
    "   \n",
    "    while i>0:\n",
    "        digit=i%10\n",
    "        add+=digit**2\n",
    "        i=i//10\n",
    "    return add\n",
    "print(\"The list of happy numbers between 1 and 100 are : \")\n",
    "for i in range(1,51):\n",
    "    temp=i\n",
    "    while temp !=1 and temp !=4:\n",
    "        temp = sq_num(temp)\n",
    "    if temp==1:\n",
    "        print(i)\n",
    "    \n",
    "\n",
    "   \n",
    "        \n",
    "    \n",
    "        \n",
    "        \n",
    "   \n",
    "    \n",
    "    \n",
    "\n",
    "   \n",
    "   \n",
    "    \n",
    "        \n"
   ]
  },
  {
   "cell_type": "markdown",
   "id": "1cdae155",
   "metadata": {},
   "source": [
    "5. Write a Python program to determine whether the given number is a Harshad Number?\n",
    "    \n",
    "    \n",
    "   "
   ]
  },
  {
   "cell_type": "code",
   "execution_count": 150,
   "id": "a707485b",
   "metadata": {},
   "outputs": [
    {
     "name": "stdout",
     "output_type": "stream",
     "text": [
      "enter the number:121\n",
      "harshad number nhi hai bhai\n"
     ]
    }
   ],
   "source": [
    "def harshad_num():\n",
    "    n=int(input(\"enter the number:\"))\n",
    "    add=0\n",
    "    temp=n\n",
    "    while n>0:\n",
    "        digit=n%10\n",
    "        add+=digit\n",
    "        n=n//10\n",
    "    if temp%add==0:\n",
    "        print(\"yahi hai harshad number\")\n",
    "    else:\n",
    "        print(\"harshad number nhi hai bhai\")\n",
    "harshad_num()\n",
    "        \n",
    "        \n",
    "        "
   ]
  },
  {
   "cell_type": "markdown",
   "id": "97c61e96",
   "metadata": {},
   "source": [
    "6. Write a Python program to print all pronic numbers between 1 and 100?"
   ]
  },
  {
   "cell_type": "code",
   "execution_count": 151,
   "id": "f44879f2",
   "metadata": {},
   "outputs": [
    {
     "name": "stdout",
     "output_type": "stream",
     "text": [
      "2\n",
      "6\n",
      "12\n",
      "20\n",
      "30\n",
      "42\n",
      "56\n",
      "72\n",
      "90\n"
     ]
    }
   ],
   "source": [
    "for i in range(1,101):\n",
    "    for j in range(i):\n",
    "        if j*(j+1)==i:\n",
    "            print(i)\n",
    "    "
   ]
  },
  {
   "cell_type": "code",
   "execution_count": null,
   "id": "69dc7654",
   "metadata": {},
   "outputs": [],
   "source": []
  },
  {
   "cell_type": "code",
   "execution_count": null,
   "id": "3a406c05",
   "metadata": {},
   "outputs": [],
   "source": []
  }
 ],
 "metadata": {
  "kernelspec": {
   "display_name": "Python 3 (ipykernel)",
   "language": "python",
   "name": "python3"
  },
  "language_info": {
   "codemirror_mode": {
    "name": "ipython",
    "version": 3
   },
   "file_extension": ".py",
   "mimetype": "text/x-python",
   "name": "python",
   "nbconvert_exporter": "python",
   "pygments_lexer": "ipython3",
   "version": "3.9.12"
  }
 },
 "nbformat": 4,
 "nbformat_minor": 5
}
