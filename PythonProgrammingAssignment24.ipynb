{
 "cells": [
  {
   "cell_type": "code",
   "execution_count": 4,
   "id": "4b277859",
   "metadata": {},
   "outputs": [
    {
     "data": {
      "text/plain": [
       "[1,\n",
       " 2,\n",
       " 3,\n",
       " 40,\n",
       " 5,\n",
       " 6,\n",
       " 7,\n",
       " 80,\n",
       " 9,\n",
       " 10,\n",
       " 11,\n",
       " 120,\n",
       " 13,\n",
       " 14,\n",
       " 15,\n",
       " 160,\n",
       " 17,\n",
       " 18,\n",
       " 19,\n",
       " 200,\n",
       " 21,\n",
       " 22,\n",
       " 23,\n",
       " 240,\n",
       " 25]"
      ]
     },
     "execution_count": 4,
     "metadata": {},
     "output_type": "execute_result"
    }
   ],
   "source": [
    "#1`\n",
    "def amplify(n):\n",
    "    l=[]\n",
    "    for i in range(1,n+1):\n",
    "        if i%4==0:\n",
    "            l.append(i*10)\n",
    "        else:\n",
    "            l.append(i)\n",
    "    return l\n",
    "amplify(4)\n",
    "amplify(25)"
   ]
  },
  {
   "cell_type": "code",
   "execution_count": 6,
   "id": "a62a4e5b",
   "metadata": {},
   "outputs": [
    {
     "name": "stdout",
     "output_type": "stream",
     "text": [
      "7\n"
     ]
    }
   ],
   "source": [
    "#2\n",
    "def unique(n):\n",
    "    for i in n:\n",
    "        if n.count(i) == 1:\n",
    "            print(i)\n",
    "unique([3, 3, 3, 7, 3, 3])"
   ]
  },
  {
   "cell_type": "code",
   "execution_count": 24,
   "id": "be4977ea",
   "metadata": {},
   "outputs": [
    {
     "data": {
      "text/plain": [
       "27.646015351590183"
      ]
     },
     "execution_count": 24,
     "metadata": {},
     "output_type": "execute_result"
    }
   ],
   "source": [
    "#3\n",
    "class get():\n",
    "    import math\n",
    "    def __init__(self,radius):\n",
    "        self.radius=radius\n",
    "    def Area(self):\n",
    "        return((math.pi)*self.radius**2)\n",
    "    def Perimeter(self):\n",
    "        return(2*(math.pi)*self.radius)\n",
    "circle=get(11)\n",
    "circle.Area()\n",
    "circy=get(4.4)\n",
    "circy.Perimeter()\n",
    "\n",
    "        \n"
   ]
  },
  {
   "cell_type": "code",
   "execution_count": 26,
   "id": "d14292c5",
   "metadata": {},
   "outputs": [
    {
     "name": "stdout",
     "output_type": "stream",
     "text": [
      "['Apple', 'Google', 'Microsoft']\n"
     ]
    }
   ],
   "source": [
    "#4\n",
    "def sort_by_length(n):\n",
    "    n.sort()\n",
    "    print(n)\n",
    "sort_by_length([\"Google\", \"Apple\", \"Microsoft\"])\n",
    "\n",
    "    "
   ]
  },
  {
   "cell_type": "markdown",
   "id": "70433e50",
   "metadata": {},
   "source": [
    "sort_by_length([&quot;Google&quot;, &quot;Apple&quot;, &quot;Microsoft&quot;])"
   ]
  },
  {
   "cell_type": "code",
   "execution_count": 29,
   "id": "aac7b45f",
   "metadata": {},
   "outputs": [
    {
     "data": {
      "text/plain": [
       "True"
      ]
     },
     "execution_count": 29,
     "metadata": {},
     "output_type": "execute_result"
    }
   ],
   "source": [
    "#5\n",
    "def is_triplet(n,c,a):\n",
    "    l=[n,c,a]\n",
    "    l.sort()\n",
    "    if l[0]**2 + l[1]**2 == l[2]**2:\n",
    "        return True\n",
    "    else:\n",
    "        return False\n",
    "is_triplet(13, 5, 12)"
   ]
  },
  {
   "cell_type": "code",
   "execution_count": null,
   "id": "7e238620",
   "metadata": {},
   "outputs": [],
   "source": []
  }
 ],
 "metadata": {
  "kernelspec": {
   "display_name": "Python 3 (ipykernel)",
   "language": "python",
   "name": "python3"
  },
  "language_info": {
   "codemirror_mode": {
    "name": "ipython",
    "version": 3
   },
   "file_extension": ".py",
   "mimetype": "text/x-python",
   "name": "python",
   "nbconvert_exporter": "python",
   "pygments_lexer": "ipython3",
   "version": "3.9.12"
  }
 },
 "nbformat": 4,
 "nbformat_minor": 5
}
