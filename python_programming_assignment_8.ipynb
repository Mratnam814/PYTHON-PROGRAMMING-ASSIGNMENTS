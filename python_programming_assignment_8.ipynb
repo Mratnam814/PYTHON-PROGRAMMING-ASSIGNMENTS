{
 "cells": [
  {
   "cell_type": "markdown",
   "id": "a3c93235",
   "metadata": {},
   "source": [
    "1. Write a Python Program to Add Two Matrices?"
   ]
  },
  {
   "cell_type": "code",
   "execution_count": 69,
   "id": "4976b406",
   "metadata": {},
   "outputs": [
    {
     "name": "stdout",
     "output_type": "stream",
     "text": [
      "[[100, 50], [70, 160]]\n"
     ]
    }
   ],
   "source": [
    "def mat_sum(a,b):\n",
    "    output=[]\n",
    "    for i in range(len(a)):\n",
    "        \n",
    "        row=[]\n",
    "        for j in  range (len(a)):\n",
    "            row.append(a[i][j] + b[i][j])\n",
    "        output.append(row)\n",
    "    print(output)\n",
    "a=[[10,20],\n",
    "   [30,40]]\n",
    "\n",
    "b=[[90,30],\n",
    "  [40,120]]\n",
    "mat_sum(a,b)\n",
    "    "
   ]
  },
  {
   "cell_type": "markdown",
   "id": "2677141e",
   "metadata": {},
   "source": [
    "2. Write a Python Program to Multiply Two Matrices?"
   ]
  },
  {
   "cell_type": "code",
   "execution_count": 76,
   "id": "4a8ac0f8",
   "metadata": {},
   "outputs": [
    {
     "data": {
      "text/plain": [
       "array([[17, 27],\n",
       "       [43, 57]])"
      ]
     },
     "execution_count": 76,
     "metadata": {},
     "output_type": "execute_result"
    }
   ],
   "source": [
    "def multiply_matrix(a,b):\n",
    "    import numpy as np\n",
    "    a=np.array(a)\n",
    "    b=np.array(b)\n",
    "    return a@b\n",
    "a=[[1,2],\n",
    "   [3,4]]\n",
    "\n",
    "b=[[9,3],\n",
    "  [4,12]]\n",
    "multiply_matrix(a,b)"
   ]
  },
  {
   "cell_type": "markdown",
   "id": "f75fdb91",
   "metadata": {},
   "source": [
    "3. Write a Python Program to Transpose a Matrix?"
   ]
  },
  {
   "cell_type": "code",
   "execution_count": 81,
   "id": "55237762",
   "metadata": {},
   "outputs": [
    {
     "data": {
      "text/plain": [
       "array([[ 9,  4],\n",
       "       [ 3, 12]])"
      ]
     },
     "execution_count": 81,
     "metadata": {},
     "output_type": "execute_result"
    }
   ],
   "source": [
    "def transpose(a):\n",
    "    import numpy as np\n",
    "    a=np.array(a)\n",
    "    return a.T\n",
    "b=[[9,3],\n",
    "  [4,12]]\n",
    "transpose(b)\n",
    "    "
   ]
  },
  {
   "cell_type": "markdown",
   "id": "0e90fab4",
   "metadata": {},
   "source": [
    "  4. Write a Python Program to Sort Words in Alphabetic Order?"
   ]
  },
  {
   "cell_type": "code",
   "execution_count": 98,
   "id": "295d1b2a",
   "metadata": {},
   "outputs": [
    {
     "data": {
      "text/plain": [
       "'am hello'"
      ]
     },
     "execution_count": 98,
     "metadata": {},
     "output_type": "execute_result"
    }
   ],
   "source": [
    "def sort_words(s):\n",
    "    w=s.lower().split()\n",
    "    w.sort()\n",
    "    return ' '.join(w)\n",
    "s='hello am'\n",
    "sort_words(s)"
   ]
  },
  {
   "cell_type": "markdown",
   "id": "daffbe02",
   "metadata": {},
   "source": [
    "5. Write a Python Program to Remove Punctuation From a String?\n"
   ]
  },
  {
   "cell_type": "code",
   "execution_count": 134,
   "id": "b0681998",
   "metadata": {},
   "outputs": [],
   "source": [
    "def remove_punc():\n",
    "    punc= '''!()-[]{};:'\"\\,<>./?@#$%^&*_~'''\n",
    "    str=input(\"enter the string or text\")\n",
    "    new_str=' '\n",
    "    for i in str:\n",
    "        if i not in punc:\n",
    "            new_str=new_str+i\n",
    "    print(new_str)"
   ]
  },
  {
   "cell_type": "code",
   "execution_count": 136,
   "id": "097b483c",
   "metadata": {},
   "outputs": [
    {
     "name": "stdout",
     "output_type": "stream",
     "text": [
      "enter the string or texts=\"\"\"Python is a high-level, general-purpose programming language. Its design philosophy emphasizes code readability with the use of significant indentation.[33]  Python is dynamically-typed and garbage-collected. It supports multiple programming paradigms, including structured (particularly\n",
      " s=Python is a highlevel generalpurpose programming language Its design philosophy emphasizes code readability with the use of significant indentation33  Python is dynamicallytyped and garbagecollected It supports multiple programming paradigms including structured particularly\n"
     ]
    }
   ],
   "source": [
    "s=\"\"\"Python is a high-level, general-purpose programming language. Its design philosophy emphasizes code readability with the use of significant indentation.[33]\n",
    "\n",
    "Python is dynamically-typed and garbage-collected. It supports multiple programming paradigms, including structured (particularly procedural), object-oriented and functional programming. It is often described as a \"batteries included\" language due to its comprehensive standard library.\"\"\"\n",
    "remove_punc()\n"
   ]
  },
  {
   "cell_type": "code",
   "execution_count": null,
   "id": "89c8abcf",
   "metadata": {},
   "outputs": [],
   "source": []
  }
 ],
 "metadata": {
  "kernelspec": {
   "display_name": "Python 3 (ipykernel)",
   "language": "python",
   "name": "python3"
  },
  "language_info": {
   "codemirror_mode": {
    "name": "ipython",
    "version": 3
   },
   "file_extension": ".py",
   "mimetype": "text/x-python",
   "name": "python",
   "nbconvert_exporter": "python",
   "pygments_lexer": "ipython3",
   "version": "3.9.12"
  }
 },
 "nbformat": 4,
 "nbformat_minor": 5
}
