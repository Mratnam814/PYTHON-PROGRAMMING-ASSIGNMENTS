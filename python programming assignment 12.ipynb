{
 "cells": [
  {
   "cell_type": "markdown",
   "id": "2c4950ff",
   "metadata": {},
   "source": [
    "1. Write a Python program to Extract Unique values dictionary values?"
   ]
  },
  {
   "cell_type": "code",
   "execution_count": 21,
   "id": "09c716a2",
   "metadata": {},
   "outputs": [
    {
     "name": "stdout",
     "output_type": "stream",
     "text": [
      "dictionary values are dict_values(['mani', 'Sudhanshu', 'Krish', 'mani', 'Krish', 'shivan', 'shivan'])\n",
      "unique values are ['Krish', 'shivan', 'mani', 'Sudhanshu']\n"
     ]
    }
   ],
   "source": [
    "def extract(p):\n",
    "    k=p.values()\n",
    "    print(f'dictionary values are {k}')\n",
    "    s=list(set(k))\n",
    "    print(f'unique values are {s}')\n",
    "m={1:'mani',2:'Sudhanshu',3:'Krish',4:'mani',5:'Krish',6:'shivan',7:'shivan'}\n",
    "extract(m)"
   ]
  },
  {
   "cell_type": "markdown",
   "id": "e6eaec3e",
   "metadata": {},
   "source": [
    "2. Write a Python program to find the sum of all items in a dictionary?"
   ]
  },
  {
   "cell_type": "code",
   "execution_count": 28,
   "id": "7ea09ac0",
   "metadata": {},
   "outputs": [
    {
     "name": "stdout",
     "output_type": "stream",
     "text": [
      "sum of the items are 144\n"
     ]
    }
   ],
   "source": [
    "def sum_values(p):\n",
    "    \n",
    "    print(f'sum of the items are {sum(p.values())}')\n",
    "l={'a':34,'b':45,'c':65}\n",
    "sum_values(l)"
   ]
  },
  {
   "cell_type": "markdown",
   "id": "2c0abc24",
   "metadata": {},
   "source": [
    "3. Write a Python program to Merging two Dictionaries?"
   ]
  },
  {
   "cell_type": "code",
   "execution_count": 30,
   "id": "9126bf65",
   "metadata": {},
   "outputs": [
    {
     "name": "stdout",
     "output_type": "stream",
     "text": [
      "{'a': 34, 'b': 45, 'c': 65, 1: 'mani', 2: 'Sudhanshu', 3: 'Krish', 4: 'mani', 5: 'Krish', 6: 'shivan', 7: 'shivan'}\n"
     ]
    }
   ],
   "source": [
    "def merge_dict(l):\n",
    "    \n",
    "    l.update(m)\n",
    "    print(l)\n",
    "        \n",
    "m={1:'mani',2:'Sudhanshu',3:'Krish',4:'mani',5:'Krish',6:'shivan',7:'shivan'}\n",
    "l={'a':34,'b':45,'c':65}\n",
    "merge_dict(l)"
   ]
  },
  {
   "cell_type": "markdown",
   "id": "b6d07aa7",
   "metadata": {},
   "source": [
    "4. Write a Python program to convert key-values list to flat dictionary?"
   ]
  },
  {
   "cell_type": "code",
   "execution_count": 66,
   "id": "0ab14f41",
   "metadata": {},
   "outputs": [
    {
     "name": "stdout",
     "output_type": "stream",
     "text": [
      "{'A': 10, 'B': 20, 'C': 30, 'D': 40, 'E': 50, 'F': 60, 'G': 70, 'H': 80, 'I': 90, 'J': 100}\n"
     ]
    }
   ],
   "source": [
    "def convert(p):\n",
    "    print(dict(p))\n",
    "l=[('A',10),('B',20),('C',30),('D',40),('E',50),('F',60),('G',70),('H',80),('I',90),('J',100)]\n",
    "convert(l)\n",
    "    "
   ]
  },
  {
   "cell_type": "code",
   "execution_count": 113,
   "id": "fd701904",
   "metadata": {},
   "outputs": [
    {
     "name": "stdout",
     "output_type": "stream",
     "text": [
      "{'A': 10, 'B': 20, 'C': 30, 'D': 40, 'E': 50, 'F': 60, 'G': 70, 'H': 80, 'I': 90, 'J': 100}\n"
     ]
    }
   ],
   "source": [
    "p=[('A',10),('B',20),('C',30),('D',40),('E',50),('F',60),('G',70),('H',80),('I',90),('J',100)]\n",
    "dict={}\n",
    "for i in p:\n",
    "    dict[i[0]]=i[1]\n",
    "print(dict)\n",
    "    \n",
    "\n",
    "        "
   ]
  },
  {
   "cell_type": "markdown",
   "id": "d97e171e",
   "metadata": {},
   "source": [
    "5. Write a Python program to insertion at the beginning in OrderedDict?"
   ]
  },
  {
   "cell_type": "code",
   "execution_count": 128,
   "id": "6045de4d",
   "metadata": {},
   "outputs": [
    {
     "name": "stdout",
     "output_type": "stream",
     "text": [
      "OrderedDict([('A', 10), ('B', 20), ('C', 30), ('D', 40), ('E', 50), ('F', 60), ('G', 70), ('H', 80), ('I', 90), ('J', 100)])\n",
      "OrderedDict([('A', 10), ('B', 20), ('C', 30), ('D', 40), ('E', 50), ('F', 60), ('G', 70), ('H', 80), ('I', 90), ('J', 100), ('m', 78)])\n",
      "dict_1 OrderedDict([('m', 78), ('A', 10), ('B', 20), ('C', 30), ('D', 40), ('E', 50), ('F', 60), ('G', 70), ('H', 80), ('I', 90), ('J', 100)])\n"
     ]
    }
   ],
   "source": [
    "from collections import OrderedDict\n",
    "dict_1={'A': 10, 'B': 20, 'C': 30, 'D': 40, 'E': 50, 'F': 60, 'G': 70, 'H': 80, 'I': 90, 'J': 100}\n",
    "dict_1=OrderedDict(dict_1)\n",
    "print(OrderedDict(dict_1))\n",
    "dict_2={'m':78}\n",
    "dict_1.update(dict_2)\n",
    "print(dict_1)\n",
    "dict_1.move_to_end('m',last=False)\n",
    "print('dict_1',dict_1)\n"
   ]
  },
  {
   "cell_type": "markdown",
   "id": "5987efdc",
   "metadata": {},
   "source": [
    "6.Write a Python program to check order of character in string using OrderedDict()?"
   ]
  },
  {
   "cell_type": "code",
   "execution_count": 152,
   "id": "ef3aff6b",
   "metadata": {},
   "outputs": [
    {
     "name": "stdout",
     "output_type": "stream",
     "text": [
      "{'a': 1000, 'f': 200, 'd': 300, 'c': 400, 'b': 500, 'e': 600}\n",
      "OrderedDict([('a', 1000), ('b', 500), ('c', 400), ('d', 300), ('e', 600), ('f', 200)])\n"
     ]
    }
   ],
   "source": [
    "from collections import OrderedDict\n",
    "start_list={'a': 1000, 'f': 200, 'd': 300, 'c': 400, 'b': 500, 'e': 600}\n",
    "print(start_list)\n",
    "p=OrderedDict(sorted(start_list.items()))\n",
    "print(p)"
   ]
  },
  {
   "cell_type": "markdown",
   "id": "e225b24b",
   "metadata": {},
   "source": [
    "7.Write a Python program to sort Python Dictionaries by Key or Value?"
   ]
  },
  {
   "cell_type": "code",
   "execution_count": 173,
   "id": "abac355b",
   "metadata": {},
   "outputs": [
    {
     "name": "stdout",
     "output_type": "stream",
     "text": [
      "[('Grape', 13), ('PineApple', 22), ('Banana', 60), ('Mango', 100)]\n",
      "[('Banana', 60), ('Grape', 13), ('Mango', 100), ('PineApple', 22)]\n"
     ]
    }
   ],
   "source": [
    "def sort_dict(dict1,sort_type):\n",
    "    if sort_type=='key':\n",
    "        print(sorted(dict1.items(),key=lambda x:x[0],reverse=False))\n",
    "    else:\n",
    "        print(sorted(dict1.items(),key=lambda x:x[1],reverse=False))\n",
    "d_items = {'Mango':100,'PineApple':22,'Banana':60,'Grape':13}\n",
    "sort_dict(d_items,'value')\n",
    "sort_dict(d_items,'key')   "
   ]
  },
  {
   "cell_type": "code",
   "execution_count": null,
   "id": "69b7e11b",
   "metadata": {},
   "outputs": [],
   "source": []
  },
  {
   "cell_type": "code",
   "execution_count": null,
   "id": "5d3bd4f0",
   "metadata": {},
   "outputs": [],
   "source": []
  }
 ],
 "metadata": {
  "kernelspec": {
   "display_name": "Python 3 (ipykernel)",
   "language": "python",
   "name": "python3"
  },
  "language_info": {
   "codemirror_mode": {
    "name": "ipython",
    "version": 3
   },
   "file_extension": ".py",
   "mimetype": "text/x-python",
   "name": "python",
   "nbconvert_exporter": "python",
   "pygments_lexer": "ipython3",
   "version": "3.9.12"
  }
 },
 "nbformat": 4,
 "nbformat_minor": 5
}
