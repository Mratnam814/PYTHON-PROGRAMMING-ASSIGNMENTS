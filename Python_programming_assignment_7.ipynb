{
 "cells": [
  {
   "cell_type": "markdown",
   "id": "2b5e55c4",
   "metadata": {},
   "source": [
    "Write a Python Program to find sum of array?"
   ]
  },
  {
   "cell_type": "code",
   "execution_count": 11,
   "id": "5c2e4db4",
   "metadata": {},
   "outputs": [
    {
     "data": {
      "text/plain": [
       "array([   5,    7,  570,  550,  662, 5663,   71])"
      ]
     },
     "execution_count": 11,
     "metadata": {},
     "output_type": "execute_result"
    }
   ],
   "source": [
    "def sum_array(ar1,ar2):\n",
    "    import numpy as np\n",
    "    return np.array(ar1)+np.array(ar2)\n",
    "l=[1,2,5,6,6,7,4]\n",
    "l1=[4,5,565,544,656,5656,67]\n",
    "sum_array(l,l1)\n",
    "   "
   ]
  },
  {
   "cell_type": "markdown",
   "id": "1096234a",
   "metadata": {},
   "source": [
    "2. Write a Python Program to find largest element in an array?"
   ]
  },
  {
   "cell_type": "code",
   "execution_count": 19,
   "id": "1276463e",
   "metadata": {},
   "outputs": [
    {
     "data": {
      "text/plain": [
       "7"
      ]
     },
     "execution_count": 19,
     "metadata": {},
     "output_type": "execute_result"
    }
   ],
   "source": [
    "def large_el(ar1):\n",
    "    import numpy as np\n",
    "    return np.max(ar1)\n",
    "l=[1,2,5,6,6,7,4]\n",
    "large_el(l)\n",
    "    \n",
    "    \n",
    "    "
   ]
  },
  {
   "cell_type": "markdown",
   "id": "04166093",
   "metadata": {},
   "source": [
    "3. Write a Python Program for array rotation?"
   ]
  },
  {
   "cell_type": "code",
   "execution_count": 107,
   "id": "d7437f98",
   "metadata": {},
   "outputs": [
    {
     "name": "stdout",
     "output_type": "stream",
     "text": [
      "left to right movement:5\n"
     ]
    },
    {
     "data": {
      "text/plain": [
       "array([5, 6, 6, 7, 4, 1, 2])"
      ]
     },
     "execution_count": 107,
     "metadata": {},
     "output_type": "execute_result"
    }
   ],
   "source": [
    "def arr_rotate(l):\n",
    "    l1=[]\n",
    "    k=int(input(\"left to right movement:\"))\n",
    "    import numpy as np\n",
    "    l=np.array(l)\n",
    "    for i in range(len(l)):\n",
    "        s=i-k\n",
    "        o=(l[s])\n",
    "        l1.append(o)\n",
    "    return np.array(l1)\n",
    "    \n",
    "l=[1,2,5,6,6,7,4]\n",
    "arr_rotate(l)\n",
    "    \n",
    "   "
   ]
  },
  {
   "cell_type": "code",
   "execution_count": 112,
   "id": "bed4107f",
   "metadata": {},
   "outputs": [
    {
     "name": "stdout",
     "output_type": "stream",
     "text": [
      "right to left movement:2\n"
     ]
    },
    {
     "data": {
      "text/plain": [
       "array([5, 6, 6, 7, 4, 1, 2])"
      ]
     },
     "execution_count": 112,
     "metadata": {},
     "output_type": "execute_result"
    }
   ],
   "source": [
    "def arr_rotate_2(l):\n",
    "    l1=[]\n",
    "    k=int(input(\"right to left movement:\"))\n",
    "    import numpy as np\n",
    "    l=np.array(l)\n",
    "    for i in range(len(l)):\n",
    "        p=len(l)-k\n",
    "        s=i-p\n",
    "        o=l[s]\n",
    "        l1.append(o)\n",
    "    return np.array(l1)\n",
    "l=[1,2,5,6,6,7,4]\n",
    "arr_rotate_2(l)\n",
    "    \n",
    "        \n",
    "   \n"
   ]
  },
  {
   "cell_type": "markdown",
   "id": "35515ecb",
   "metadata": {},
   "source": [
    "Write a Python Program to Split the array and add the first part to the end?"
   ]
  },
  {
   "cell_type": "code",
   "execution_count": 113,
   "id": "26a01add",
   "metadata": {},
   "outputs": [
    {
     "name": "stdout",
     "output_type": "stream",
     "text": [
      "no. of elements to be split:3\n"
     ]
    },
    {
     "data": {
      "text/plain": [
       "array([6, 6, 7, 4, 1, 2, 5])"
      ]
     },
     "execution_count": 113,
     "metadata": {},
     "output_type": "execute_result"
    }
   ],
   "source": [
    "def split_array(l):\n",
    "    l1=[]\n",
    "    k=int(input(\"no. of elements to be split:\"))\n",
    "    import numpy as np\n",
    "    l=np.array(l)\n",
    "    for i in range(len(l)):\n",
    "        p=len(l)-k\n",
    "        s=i-p\n",
    "        o=l[s]\n",
    "        l1.append(o)\n",
    "    return np.array(l1)\n",
    "l=[1,2,5,6,6,7,4]\n",
    "split_array(l)\n",
    "    \n",
    "\n",
    "    \n",
    "    "
   ]
  },
  {
   "cell_type": "markdown",
   "id": "17def4af",
   "metadata": {},
   "source": [
    "5. Write a Python Program to check if given array is Monotonic?\n"
   ]
  },
  {
   "cell_type": "code",
   "execution_count": 118,
   "id": "28e41def",
   "metadata": {},
   "outputs": [
    {
     "data": {
      "text/plain": [
       "False"
      ]
     },
     "execution_count": 118,
     "metadata": {},
     "output_type": "execute_result"
    }
   ],
   "source": [
    "def monotonic(a):\n",
    "    return(all(a[i]<= a[i+1] for i in range(len(a)-1)) or all(a[i]>= a[i+1] for i in range(len(a)-1)) )\n",
    "m=[4556,7890,987]\n",
    "monotonic(m)"
   ]
  },
  {
   "cell_type": "code",
   "execution_count": null,
   "id": "1e464d08",
   "metadata": {},
   "outputs": [],
   "source": []
  }
 ],
 "metadata": {
  "kernelspec": {
   "display_name": "Python 3 (ipykernel)",
   "language": "python",
   "name": "python3"
  },
  "language_info": {
   "codemirror_mode": {
    "name": "ipython",
    "version": 3
   },
   "file_extension": ".py",
   "mimetype": "text/x-python",
   "name": "python",
   "nbconvert_exporter": "python",
   "pygments_lexer": "ipython3",
   "version": "3.9.12"
  }
 },
 "nbformat": 4,
 "nbformat_minor": 5
}
