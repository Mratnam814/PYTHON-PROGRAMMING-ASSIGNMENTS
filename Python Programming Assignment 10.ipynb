{
 "cells": [
  {
   "cell_type": "markdown",
   "id": "7970ab0c",
   "metadata": {},
   "source": [
    "1. Write a Python program to find sum of elements in list?"
   ]
  },
  {
   "cell_type": "code",
   "execution_count": 1,
   "id": "6f2d8034",
   "metadata": {},
   "outputs": [
    {
     "data": {
      "text/plain": [
       "368"
      ]
     },
     "execution_count": 1,
     "metadata": {},
     "output_type": "execute_result"
    }
   ],
   "source": [
    "def add(n):\n",
    "    jod=sum(n)\n",
    "    return jod\n",
    "l=[1,2,354,5,6]\n",
    "add(l)\n"
   ]
  },
  {
   "cell_type": "markdown",
   "id": "48e99f42",
   "metadata": {},
   "source": [
    "2. Write a Python program to Multiply all numbers in the list?"
   ]
  },
  {
   "cell_type": "code",
   "execution_count": 15,
   "id": "4d173d4b",
   "metadata": {},
   "outputs": [
    {
     "data": {
      "text/plain": [
       "24"
      ]
     },
     "execution_count": 15,
     "metadata": {},
     "output_type": "execute_result"
    }
   ],
   "source": [
    "l=[1,2,3,4]\n",
    "from functools import reduce\n",
    "reduce(lambda a,b:a*b,n)\n",
    "\n",
    "  \n",
    "    "
   ]
  },
  {
   "cell_type": "markdown",
   "id": "5f5b3a5a",
   "metadata": {},
   "source": [
    "3. Write a Python program to find smallest number in a list?"
   ]
  },
  {
   "cell_type": "code",
   "execution_count": 18,
   "id": "4e8699ca",
   "metadata": {},
   "outputs": [
    {
     "data": {
      "text/plain": [
       "4545"
      ]
     },
     "execution_count": 18,
     "metadata": {},
     "output_type": "execute_result"
    }
   ],
   "source": [
    "def smallest_num(l):\n",
    "    minimum=min(l)\n",
    "    return minimum\n",
    "k=[21312,4545,5657676699,87787]\n",
    "smallest_num(k)\n",
    "    "
   ]
  },
  {
   "cell_type": "markdown",
   "id": "ec17687d",
   "metadata": {},
   "source": [
    "4. Write a Python program to find largest number in a list?"
   ]
  },
  {
   "cell_type": "code",
   "execution_count": 19,
   "id": "f7a651f2",
   "metadata": {},
   "outputs": [
    {
     "data": {
      "text/plain": [
       "5657676699"
      ]
     },
     "execution_count": 19,
     "metadata": {},
     "output_type": "execute_result"
    }
   ],
   "source": [
    "def largest_num(l):\n",
    "    maximum=max(l)\n",
    "    return maximum\n",
    "k=[21312,4545,5657676699,87787]\n",
    "largest_num(k)\n",
    "    "
   ]
  },
  {
   "cell_type": "markdown",
   "id": "13daac30",
   "metadata": {},
   "source": [
    "5. Write a Python program to find second largest number in a list?"
   ]
  },
  {
   "cell_type": "code",
   "execution_count": 73,
   "id": "02c823fb",
   "metadata": {},
   "outputs": [
    {
     "data": {
      "text/plain": [
       "998797"
      ]
     },
     "execution_count": 73,
     "metadata": {},
     "output_type": "execute_result"
    }
   ],
   "source": [
    "def second_largest_num(k):\n",
    "    k.sort()\n",
    "    return k[len(k)-2]\n",
    "p=[3432423,65656,998797,87987]\n",
    "second_largest_num(p)"
   ]
  },
  {
   "cell_type": "markdown",
   "id": "04848baf",
   "metadata": {},
   "source": [
    "6. Write a Python program to find N largest elements from a list?"
   ]
  },
  {
   "cell_type": "code",
   "execution_count": 102,
   "id": "5285adb0",
   "metadata": {},
   "outputs": [
    {
     "name": "stdout",
     "output_type": "stream",
     "text": [
      "enter the nth largest elemnt:3\n"
     ]
    },
    {
     "data": {
      "text/plain": [
       "87987"
      ]
     },
     "execution_count": 102,
     "metadata": {},
     "output_type": "execute_result"
    }
   ],
   "source": [
    "def large_elements(l):\n",
    "    l.sort()\n",
    "    n=int(input(\"enter the nth largest elemnt:\"))\n",
    "    return l[-n]\n",
    "    \n",
    "   \n",
    "            \n",
    "            \n",
    "p=[3432423,65656,998797,87987] \n",
    "large_elements(p)"
   ]
  },
  {
   "cell_type": "markdown",
   "id": "2c1036a3",
   "metadata": {},
   "source": [
    "7. Write a Python program to print even numbers in a list?"
   ]
  },
  {
   "cell_type": "code",
   "execution_count": 99,
   "id": "3faf1f1f",
   "metadata": {},
   "outputs": [
    {
     "data": {
      "text/plain": [
       "[65656]"
      ]
     },
     "execution_count": 99,
     "metadata": {},
     "output_type": "execute_result"
    }
   ],
   "source": [
    "m=[3432423,65656,998797,87987] \n",
    "list(filter(lambda x:x%2==0,l))"
   ]
  },
  {
   "cell_type": "markdown",
   "id": "674fb522",
   "metadata": {},
   "source": [
    "8. Write a Python program to print odd numbers in a List?"
   ]
  },
  {
   "cell_type": "code",
   "execution_count": 100,
   "id": "bc7066b8",
   "metadata": {},
   "outputs": [
    {
     "data": {
      "text/plain": [
       "[3432423, 998797, 87987]"
      ]
     },
     "execution_count": 100,
     "metadata": {},
     "output_type": "execute_result"
    }
   ],
   "source": [
    "p=[3432423,65656,998797,87987]\n",
    "list(filter(lambda x:x%2 !=0,l))"
   ]
  },
  {
   "cell_type": "markdown",
   "id": "b9d5a2e6",
   "metadata": {},
   "source": [
    "9. Write a Python program to Remove empty List from List?"
   ]
  },
  {
   "cell_type": "code",
   "execution_count": 114,
   "id": "22952ee6",
   "metadata": {},
   "outputs": [
    {
     "data": {
      "text/plain": [
       "[[1, 2]]"
      ]
     },
     "execution_count": 114,
     "metadata": {},
     "output_type": "execute_result"
    }
   ],
   "source": [
    "def remove_empty(k):\n",
    "    k.remove([])\n",
    "    return k\n",
    "l=[[1,2],[]]\n",
    "remove_empty(l)\n",
    "    "
   ]
  },
  {
   "cell_type": "markdown",
   "id": "02ac6fc2",
   "metadata": {},
   "source": [
    "10. Write a Python program to Cloning or Copying a list?"
   ]
  },
  {
   "cell_type": "code",
   "execution_count": 130,
   "id": "0b46634a",
   "metadata": {},
   "outputs": [
    {
     "name": "stdout",
     "output_type": "stream",
     "text": [
      "copied list is [1, 2, 3, 4]\n",
      "original list is [1, 2, 3, 4]\n"
     ]
    }
   ],
   "source": [
    "def copy(m):\n",
    "    p=m.copy()\n",
    "    print(f'copied list is {p}')\n",
    "    print(f'original list is {m}')\n",
    "l=[1,2,3,4]\n",
    "copy(l)"
   ]
  },
  {
   "cell_type": "markdown",
   "id": "b1148eb1",
   "metadata": {},
   "source": [
    "11. Write a Python program to Count occurrences of an element in a list?"
   ]
  },
  {
   "cell_type": "code",
   "execution_count": 143,
   "id": "346989e5",
   "metadata": {},
   "outputs": [
    {
     "name": "stdout",
     "output_type": "stream",
     "text": [
      "enter the element for getting counted:1\n"
     ]
    },
    {
     "data": {
      "text/plain": [
       "3"
      ]
     },
     "execution_count": 143,
     "metadata": {},
     "output_type": "execute_result"
    }
   ],
   "source": [
    "def occurrences(k):\n",
    "    count=0\n",
    "    n=int(input(\"enter the element for getting counted:\"))\n",
    "    if n in k:\n",
    "        for i in k:\n",
    "            if n==i:\n",
    "                count+=1\n",
    "    return count\n",
    "        \n",
    "   \n",
    "    \n",
    "l=[1,2,3,1,2,3,1,2,3,4,5,6,4,5,6]\n",
    "occurrences(l)"
   ]
  },
  {
   "cell_type": "code",
   "execution_count": null,
   "id": "357438a5",
   "metadata": {},
   "outputs": [],
   "source": []
  },
  {
   "cell_type": "code",
   "execution_count": 127,
   "id": "703591b1",
   "metadata": {},
   "outputs": [],
   "source": []
  },
  {
   "cell_type": "code",
   "execution_count": null,
   "id": "818a00ea",
   "metadata": {},
   "outputs": [],
   "source": []
  },
  {
   "cell_type": "code",
   "execution_count": null,
   "id": "5fa1553c",
   "metadata": {},
   "outputs": [],
   "source": []
  }
 ],
 "metadata": {
  "kernelspec": {
   "display_name": "Python 3 (ipykernel)",
   "language": "python",
   "name": "python3"
  },
  "language_info": {
   "codemirror_mode": {
    "name": "ipython",
    "version": 3
   },
   "file_extension": ".py",
   "mimetype": "text/x-python",
   "name": "python",
   "nbconvert_exporter": "python",
   "pygments_lexer": "ipython3",
   "version": "3.9.12"
  }
 },
 "nbformat": 4,
 "nbformat_minor": 5
}
