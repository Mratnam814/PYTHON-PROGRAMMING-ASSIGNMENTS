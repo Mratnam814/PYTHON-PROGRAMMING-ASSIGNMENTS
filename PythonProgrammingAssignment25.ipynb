{
 "cells": [
  {
   "cell_type": "code",
   "execution_count": 4,
   "id": "6a83a408",
   "metadata": {},
   "outputs": [
    {
     "name": "stdout",
     "output_type": "stream",
     "text": [
      "2\n"
     ]
    }
   ],
   "source": [
    "#1\n",
    "def equal(a,b,c):\n",
    "    l=[a,b,c]\n",
    "    for i in l:\n",
    "        if l.count(i) > 1:\n",
    "            print(l.count(i))\n",
    "            break\n",
    "equal(3, 4, 3)"
   ]
  },
  {
   "cell_type": "code",
   "execution_count": 11,
   "id": "abb4d469",
   "metadata": {},
   "outputs": [
    {
     "data": {
      "text/plain": [
       "dict_items([('D', 1), ('B', 2), ('C', 3)])"
      ]
     },
     "execution_count": 11,
     "metadata": {},
     "output_type": "execute_result"
    }
   ],
   "source": [
    "#2\n",
    "def dict_to_list(l):\n",
    "    p= l.items()\n",
    "    return p\n",
    "l={ \"D\": 1, \"B\": 2, \"C\": 3 }\n",
    "dict_to_list(l)\n",
    "    "
   ]
  },
  {
   "cell_type": "code",
   "execution_count": 16,
   "id": "9178ee87",
   "metadata": {},
   "outputs": [
    {
     "data": {
      "text/plain": [
       "{'a': 'A', 'v': 'V', 'y': 'Y', 'z': 'Z'}"
      ]
     },
     "execution_count": 16,
     "metadata": {},
     "output_type": "execute_result"
    }
   ],
   "source": [
    "#3\n",
    "def mapping(l):\n",
    "    s=dict()\n",
    "    for i in l:\n",
    "        s.update({i:i.upper()})\n",
    "    return s\n",
    "mapping([\"a\", \"v\", \"y\", \"z\"])"
   ]
  },
  {
   "cell_type": "code",
   "execution_count": 33,
   "id": "cd991f93",
   "metadata": {},
   "outputs": [
    {
     "data": {
      "text/plain": [
       "'steffed jelepene peppers'"
      ]
     },
     "execution_count": 33,
     "metadata": {},
     "output_type": "execute_result"
    }
   ],
   "source": [
    "#4\n",
    "def vow_replace(n,vow):\n",
    "    l=[]\n",
    "    k=\"aeiou\"\n",
    "    for i in n:\n",
    "        l.append(i)\n",
    "    for i in range(len(l)):\n",
    "        if l[i] in k:\n",
    "            l[i]=vow\n",
    "    h=\"\".join(l)\n",
    "    return h\n",
    "            \n",
    "vow_replace(\"stuffed jalapeno poppers\", \"e\")\n",
    " \n",
    "    "
   ]
  },
  {
   "cell_type": "code",
   "execution_count": 63,
   "id": "dde32624",
   "metadata": {},
   "outputs": [
    {
     "data": {
      "text/plain": [
       "'Oh wHaT A BeAuTiFuL MoRnInG.'"
      ]
     },
     "execution_count": 63,
     "metadata": {},
     "output_type": "execute_result"
    }
   ],
   "source": [
    "#5\n",
    "def ascii_capitalize(n):\n",
    "    l=[]\n",
    "    l1=[]\n",
    "    for i in n:\n",
    "        l.append(i)\n",
    "    for i in range(len(l)):\n",
    "        \n",
    "        if i %2 == 0:\n",
    "            \n",
    "            l1.append(l[i].upper())\n",
    "        else:\n",
    "            l1.append(l[i].lower())\n",
    "        k=\"\".join(l1)\n",
    "    return k\n",
    "ascii_capitalize(\"Oh what a beautiful morning.\")"
   ]
  },
  {
   "cell_type": "markdown",
   "id": "513599b0",
   "metadata": {},
   "source": [
    "ascii_capitalize(&quot;Oh what a beautiful morning.&quot;)"
   ]
  },
  {
   "cell_type": "code",
   "execution_count": null,
   "id": "5cf9095c",
   "metadata": {},
   "outputs": [],
   "source": []
  },
  {
   "cell_type": "code",
   "execution_count": null,
   "id": "f3ab7329",
   "metadata": {},
   "outputs": [],
   "source": []
  }
 ],
 "metadata": {
  "kernelspec": {
   "display_name": "Python 3 (ipykernel)",
   "language": "python",
   "name": "python3"
  },
  "language_info": {
   "codemirror_mode": {
    "name": "ipython",
    "version": 3
   },
   "file_extension": ".py",
   "mimetype": "text/x-python",
   "name": "python",
   "nbconvert_exporter": "python",
   "pygments_lexer": "ipython3",
   "version": "3.9.12"
  }
 },
 "nbformat": 4,
 "nbformat_minor": 5
}
