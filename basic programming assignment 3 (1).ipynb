{
 "cells": [
  {
   "cell_type": "markdown",
   "id": "96e511ef",
   "metadata": {},
   "source": [
    "1. Write a Python Program to Check if a Number is Positive, Negative or Zero?"
   ]
  },
  {
   "cell_type": "code",
   "execution_count": 9,
   "id": "869103d3",
   "metadata": {},
   "outputs": [
    {
     "name": "stdout",
     "output_type": "stream",
     "text": [
      "number:t\n",
      "enter only numbers\n"
     ]
    }
   ],
   "source": [
    "try:\n",
    "    a=float(input(\"number:\"))\n",
    "    if a>0:\n",
    "        print(\"positive\")\n",
    "    elif a<0:\n",
    "        print(\"negative\")\n",
    "    else:\n",
    "        print(\"zero\")\n",
    "except (TypeError,ValueError):\n",
    "    print(\"enter only numbers\")"
   ]
  },
  {
   "cell_type": "markdown",
   "id": "79dd1edd",
   "metadata": {},
   "source": [
    "2. Write a Python Program to Check if a Number is Odd or Even?"
   ]
  },
  {
   "cell_type": "code",
   "execution_count": 12,
   "id": "afa286a8",
   "metadata": {},
   "outputs": [
    {
     "name": "stdout",
     "output_type": "stream",
     "text": [
      "number:12876\n",
      "even\n"
     ]
    }
   ],
   "source": [
    "try:\n",
    "    a=int(input(\"number:\"))\n",
    "    if a%2==0:\n",
    "        print(\"even\")\n",
    "    elif a%2 !=0:\n",
    "        print(\"odd\")\n",
    "except (TypeError,ValueError):\n",
    "    print(\"enter only numbers\")\n",
    "    "
   ]
  },
  {
   "cell_type": "markdown",
   "id": "93466258",
   "metadata": {},
   "source": [
    "3. Write a Python Program to Check Leap Year?"
   ]
  },
  {
   "cell_type": "code",
   "execution_count": 17,
   "id": "21a27516",
   "metadata": {},
   "outputs": [
    {
     "name": "stdout",
     "output_type": "stream",
     "text": [
      "YEAR:2000\n",
      "leap year\n"
     ]
    }
   ],
   "source": [
    "y=int(input(\"YEAR:\"))\n",
    "if y%4==0 and (y%100!=0 or y%400==0):\n",
    "    print(\"leap year\")\n",
    "    ,                            \n"
   ]
  },
  {
   "cell_type": "markdown",
   "id": "10693732",
   "metadata": {},
   "source": [
    "4. Write a Python Program to Check Prime Number?"
   ]
  },
  {
   "cell_type": "code",
   "execution_count": 78,
   "id": "5bb64cf3",
   "metadata": {},
   "outputs": [
    {
     "name": "stdout",
     "output_type": "stream",
     "text": [
      "number:2\n",
      "prime number\n"
     ]
    }
   ],
   "source": [
    "n=int(input(\"number:\"))\n",
    "\n",
    "if n>1:\n",
    "    \n",
    "    for i in range(2,n):\n",
    "        if n%i==0:\n",
    "            print(\"not a prime number\")\n",
    "            break\n",
    "        else:\n",
    "            print(\"prime number\")\n",
    "        \n",
    "            break\n",
    "    if n==2:\n",
    "        print(\"prime number\")\n",
    "        \n",
    "        \n",
    "        \n",
    "                \n",
    "    \n",
    "   \n",
    "            "
   ]
  },
  {
   "cell_type": "markdown",
   "id": "2d251f20",
   "metadata": {},
   "source": [
    "5. Write a Python Program to Print all Prime Numbers in an Interval of 1-10000?"
   ]
  },
  {
   "cell_type": "code",
   "execution_count": 74,
   "id": "1288b688",
   "metadata": {},
   "outputs": [
    {
     "name": "stdout",
     "output_type": "stream",
     "text": [
      "2\n",
      "3\n",
      "5\n",
      "7\n",
      "11\n",
      "13\n",
      "17\n",
      "19\n",
      "23\n",
      "29\n",
      "31\n",
      "37\n",
      "41\n",
      "43\n",
      "47\n",
      "53\n",
      "59\n",
      "61\n",
      "67\n",
      "71\n",
      "73\n",
      "79\n",
      "83\n",
      "89\n",
      "97\n",
      "101\n",
      "103\n",
      "107\n",
      "109\n",
      "113\n",
      "127\n",
      "131\n",
      "137\n",
      "139\n",
      "149\n",
      "151\n",
      "157\n",
      "163\n",
      "167\n",
      "173\n",
      "179\n",
      "181\n",
      "191\n",
      "193\n",
      "197\n",
      "199\n",
      "211\n",
      "223\n",
      "227\n",
      "229\n",
      "233\n",
      "239\n",
      "241\n",
      "251\n",
      "257\n",
      "263\n",
      "269\n",
      "271\n",
      "277\n",
      "281\n",
      "283\n",
      "293\n",
      "307\n",
      "311\n",
      "313\n",
      "317\n",
      "331\n",
      "337\n",
      "347\n",
      "349\n",
      "353\n",
      "359\n",
      "367\n",
      "373\n",
      "379\n",
      "383\n",
      "389\n",
      "397\n",
      "401\n",
      "409\n",
      "419\n",
      "421\n",
      "431\n",
      "433\n",
      "439\n",
      "443\n",
      "449\n",
      "457\n",
      "461\n",
      "463\n",
      "467\n",
      "479\n",
      "487\n",
      "491\n",
      "499\n",
      "503\n",
      "509\n",
      "521\n",
      "523\n",
      "541\n",
      "547\n",
      "557\n",
      "563\n",
      "569\n",
      "571\n",
      "577\n",
      "587\n",
      "593\n",
      "599\n",
      "601\n",
      "607\n",
      "613\n",
      "617\n",
      "619\n",
      "631\n",
      "641\n",
      "643\n",
      "647\n",
      "653\n",
      "659\n",
      "661\n",
      "673\n",
      "677\n",
      "683\n",
      "691\n",
      "701\n",
      "709\n",
      "719\n",
      "727\n",
      "733\n",
      "739\n",
      "743\n",
      "751\n",
      "757\n",
      "761\n",
      "769\n",
      "773\n",
      "787\n",
      "797\n",
      "809\n",
      "811\n",
      "821\n",
      "823\n",
      "827\n",
      "829\n",
      "839\n",
      "853\n",
      "857\n",
      "859\n",
      "863\n",
      "877\n",
      "881\n",
      "883\n",
      "887\n",
      "907\n",
      "911\n",
      "919\n",
      "929\n",
      "937\n",
      "941\n",
      "947\n",
      "953\n",
      "967\n",
      "971\n",
      "977\n",
      "983\n",
      "991\n",
      "997\n"
     ]
    }
   ],
   "source": [
    "for n in range(1,1000):\n",
    "    if n>1:\n",
    "        \n",
    "        for i in range(2,n):\n",
    "            if n%i ==0:\n",
    "                break\n",
    "        else:\n",
    "            print(n)\n",
    "         "
   ]
  },
  {
   "cell_type": "code",
   "execution_count": null,
   "id": "02934789",
   "metadata": {},
   "outputs": [],
   "source": []
  }
 ],
 "metadata": {
  "kernelspec": {
   "display_name": "Python 3 (ipykernel)",
   "language": "python",
   "name": "python3"
  },
  "language_info": {
   "codemirror_mode": {
    "name": "ipython",
    "version": 3
   },
   "file_extension": ".py",
   "mimetype": "text/x-python",
   "name": "python",
   "nbconvert_exporter": "python",
   "pygments_lexer": "ipython3",
   "version": "3.9.12"
  }
 },
 "nbformat": 4,
 "nbformat_minor": 5
}
