{
 "cells": [
  {
   "cell_type": "markdown",
   "id": "08fb7b1c",
   "metadata": {},
   "source": [
    "1. Write a Python Program to Find LCM?"
   ]
  },
  {
   "cell_type": "code",
   "execution_count": 20,
   "id": "9db86f3f",
   "metadata": {},
   "outputs": [
    {
     "name": "stdout",
     "output_type": "stream",
     "text": [
      "enter the first number:153\n",
      "enter the second number:471\n",
      "LCM of 153 and 471 is 24021\n"
     ]
    }
   ],
   "source": [
    "a=int(input(\"enter the first number:\"))\n",
    "b=int(input(\"enter the second number:\"))\n",
    "maxnum=max(a,b)\n",
    "while(True):\n",
    "    if (maxnum%a==0 and maxnum%b==0):\n",
    "        break\n",
    "    maxnum=maxnum+1\n",
    "print(\"LCM of\",a,\"and\",b,\"is\",maxnum)\n",
    "     "
   ]
  },
  {
   "cell_type": "code",
   "execution_count": 19,
   "id": "24d09a65",
   "metadata": {},
   "outputs": [
    {
     "name": "stdout",
     "output_type": "stream",
     "text": [
      "enter the number:153\n",
      "enter the number:471\n",
      "LCM of 153 and 471 is 24021\n"
     ]
    }
   ],
   "source": [
    "#solution using forloops\n",
    "a=int(input(\"enter the number:\"))\n",
    "b=int(input(\"enter the number:\"))\n",
    "l=[]\n",
    "for i in range(1,100):\n",
    "    c=i*a\n",
    "    d=i*b\n",
    "    l.append(c)\n",
    "    l.append(d)\n",
    "for j in l:\n",
    "    if (j%a==0 and j%b==0):\n",
    "        print(\"LCM of\",a,\"and\",b,\"is\",j)\n",
    "        break\n",
    "else:\n",
    "    print(\"LCM of\",a,\"and\",b,\"is\",a*b)\n",
    "    "
   ]
  },
  {
   "cell_type": "markdown",
   "id": "37c99dfa",
   "metadata": {},
   "source": [
    "2. Write a Python Program to Find HCF?"
   ]
  },
  {
   "cell_type": "code",
   "execution_count": 46,
   "id": "45121358",
   "metadata": {},
   "outputs": [
    {
     "name": "stdout",
     "output_type": "stream",
     "text": [
      "enter first number:12\n",
      "enter second number:16\n",
      "4\n"
     ]
    }
   ],
   "source": [
    "a=int(input(\"enter first number:\"))\n",
    "b=int(input(\"enter second number:\"))\n",
    "minnum=min(a,b)\n",
    "for i in range(1,minnum+1):\n",
    "    if a%i==0 and b%i==0:\n",
    "        hcf=i\n",
    "print(hcf)\n",
    "        \n",
    "       \n",
    "\n",
    "        \n",
    "        \n",
    "       \n",
    "\n",
    "        \n",
    "    \n",
    "        \n",
    "        \n",
    "        \n",
    "    \n",
    "        "
   ]
  },
  {
   "cell_type": "markdown",
   "id": "e8675acb",
   "metadata": {},
   "source": [
    "3. Write a Python Program to Convert Decimal to Binary, Octal and Hexadecimal?"
   ]
  },
  {
   "cell_type": "code",
   "execution_count": 49,
   "id": "79342c51",
   "metadata": {},
   "outputs": [
    {
     "name": "stdout",
     "output_type": "stream",
     "text": [
      "enter the number:60\n",
      "BINARY NUMBER: 0b111100\n",
      "OCTAL NUMBER: 0o74\n",
      "HEXADECIMAL NUMBER 0x3c\n"
     ]
    }
   ],
   "source": [
    "a=int(input(\"enter the number:\"))\n",
    "B=bin(a)\n",
    "o=oct(a)\n",
    "h=hex(a)\n",
    "print(\"BINARY NUMBER:\",B)\n",
    "print(\"OCTAL NUMBER:\",o)\n",
    "print(\"HEXADECIMAL NUMBER\",h)"
   ]
  },
  {
   "cell_type": "markdown",
   "id": "22e6441e",
   "metadata": {},
   "source": [
    "4. Write a Python Program To Find ASCII value of a character?"
   ]
  },
  {
   "cell_type": "code",
   "execution_count": 51,
   "id": "f012ffa0",
   "metadata": {},
   "outputs": [
    {
     "name": "stdout",
     "output_type": "stream",
     "text": [
      "enter the characterA\n",
      "65\n"
     ]
    }
   ],
   "source": [
    "character=input(\"enter the character\")\n",
    "b=ord(character)\n",
    "print(b)"
   ]
  },
  {
   "cell_type": "code",
   "execution_count": 56,
   "id": "a08a1a59",
   "metadata": {},
   "outputs": [
    {
     "name": "stdout",
     "output_type": "stream",
     "text": [
      "enter the value:97\n",
      "a\n"
     ]
    }
   ],
   "source": [
    "#viceversa\n",
    "ASCII=int(input(\"enter the value:\"))\n",
    "b=chr(ASCII)\n",
    "print(b)"
   ]
  },
  {
   "cell_type": "markdown",
   "id": "8b2a1ae0",
   "metadata": {},
   "source": [
    "5. Write a Python Program to Make a Simple Calculator with 4 basic mathematical operations?"
   ]
  },
  {
   "cell_type": "code",
   "execution_count": 76,
   "id": "e1add7e8",
   "metadata": {},
   "outputs": [
    {
     "name": "stdout",
     "output_type": "stream",
     "text": [
      "enter first number:8\n",
      "enter second number:7\n",
      "operation:+,-,x or %:o\n",
      "please enter the correct operation sign\n"
     ]
    }
   ],
   "source": [
    "\n",
    "a=float(input(\"enter first number:\"))\n",
    "b=float(input(\"enter second number:\"))\n",
    "operation=input(\"operation:+,-,x or %:\")\n",
    "if operation==\"+\":\n",
    "    print(\"sum of\",a,\"and\",b,\"is\",a+b)\n",
    "elif operation==\"-\":\n",
    "    print(\"subtraction of\",a,\"and\",b,\"is\",a-b)\n",
    "elif operation==\"x\":\n",
    "    print(\"multiplication of\",a,\"and\",b,\"is\",a*b)\n",
    "elif operation==\"%\":\n",
    "    print(\"division of\",a,\"and\",b,\"is\",a/b)\n",
    "else:\n",
    "    print(\"please enter the correct operation sign\")\n",
    "    \n",
    "    \n",
    "    \n"
   ]
  },
  {
   "cell_type": "code",
   "execution_count": 77,
   "id": "af7d871e",
   "metadata": {},
   "outputs": [
    {
     "data": {
      "text/plain": [
       "15"
      ]
     },
     "execution_count": 77,
     "metadata": {},
     "output_type": "execute_result"
    }
   ],
   "source": []
  },
  {
   "cell_type": "code",
   "execution_count": null,
   "id": "a2e06f03",
   "metadata": {},
   "outputs": [],
   "source": []
  }
 ],
 "metadata": {
  "kernelspec": {
   "display_name": "Python 3 (ipykernel)",
   "language": "python",
   "name": "python3"
  },
  "language_info": {
   "codemirror_mode": {
    "name": "ipython",
    "version": 3
   },
   "file_extension": ".py",
   "mimetype": "text/x-python",
   "name": "python",
   "nbconvert_exporter": "python",
   "pygments_lexer": "ipython3",
   "version": "3.9.12"
  }
 },
 "nbformat": 4,
 "nbformat_minor": 5
}
