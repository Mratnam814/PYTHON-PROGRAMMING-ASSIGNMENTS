{
 "cells": [
  {
   "cell_type": "markdown",
   "id": "320f02d7",
   "metadata": {},
   "source": [
    "Write a Python Program to Display Fibonacci Sequence Using Recursion?"
   ]
  },
  {
   "cell_type": "code",
   "execution_count": 75,
   "id": "c693e32f",
   "metadata": {},
   "outputs": [
    {
     "name": "stdout",
     "output_type": "stream",
     "text": [
      "enter the length of the series:10\n",
      "0\n",
      "1\n",
      "1\n",
      "2\n",
      "3\n",
      "5\n",
      "8\n",
      "13\n",
      "21\n",
      "34\n",
      "55\n"
     ]
    }
   ],
   "source": [
    "n=int(input(\"enter the length of the series:\"))\n",
    "def fibnum(a,b,n):\n",
    "    if n==0:\n",
    "        return 0\n",
    "        \n",
    "    elif n==1:\n",
    "        return 1\n",
    "    else:\n",
    "        h=a+b\n",
    "        print(h)\n",
    "        fibnum(b,h,n-1)\n",
    "l=0\n",
    "m=1\n",
    "print(l)\n",
    "print(m)\n",
    "fibnum(l,m,n)\n",
    "\n",
    "        \n",
    "    \n",
    "    \n",
    "   \n",
    "    "
   ]
  },
  {
   "cell_type": "markdown",
   "id": "169f8a76",
   "metadata": {},
   "source": [
    "2. Write a Python Program to Find Factorial of Number Using Recursion?5"
   ]
  },
  {
   "cell_type": "code",
   "execution_count": 7,
   "id": "a63fa971",
   "metadata": {},
   "outputs": [
    {
     "name": "stdout",
     "output_type": "stream",
     "text": [
      "enter the number:5\n"
     ]
    },
    {
     "data": {
      "text/plain": [
       "120"
      ]
     },
     "execution_count": 7,
     "metadata": {},
     "output_type": "execute_result"
    }
   ],
   "source": [
    "n=int(input(\"enter the number:\"))\n",
    "def factorial(n):\n",
    "    if n==1:\n",
    "        return 1\n",
    "    else:\n",
    "        return n*factorial(n-1)\n",
    "    print(\"factorial of\",n,\"is\",factorial(n))\n",
    "factorial(n)"
   ]
  },
  {
   "cell_type": "markdown",
   "id": "604ff3e7",
   "metadata": {},
   "source": [
    "Write a Python Program to calculate your Body Mass Index?"
   ]
  },
  {
   "cell_type": "code",
   "execution_count": 3,
   "id": "fe242dfb",
   "metadata": {},
   "outputs": [
    {
     "name": "stdout",
     "output_type": "stream",
     "text": [
      "enter your body weight(in kg):59\n",
      "emter your height(in metres):56\n",
      "BODY MASS INDEX: 0.01881377551020408 \n",
      " YOU ARE UNDERWEIGHT\n"
     ]
    }
   ],
   "source": [
    "Weight = float(input(\"enter your body weight(in kg):\"))\n",
    "Height = float(input(\"emter your height(in metres):\"))\n",
    "s=Weight/Height**2\n",
    "if s<18.5:\n",
    "    print(\"BODY MASS INDEX:\",s,\"\\n\",\"YOU ARE UNDERWEIGHT\")\n",
    "elif s>=18.5 and s<=24.9:\n",
    "     print(\"BODY MASS INDEX:\",s,\"\\n\",\"YOU ARE NORMAL\")\n",
    "elif  s>=25 and s<=29.9:\n",
    "     print(\"BODY MASS INDEX:\",s,\"\\n\",\"YOU ARE OVERWEIGHT\")\n",
    "else:\n",
    "     print(\"BODY MASS INDEX:\",s,\"\\n\",\"YOU ARE OBESE\")\n",
    "    \n"
   ]
  },
  {
   "cell_type": "markdown",
   "id": "9ffb79aa",
   "metadata": {},
   "source": [
    "Write a Python Program to calculate the natural logarithm of any number?\n",
    "import math"
   ]
  },
  {
   "cell_type": "code",
   "execution_count": 4,
   "id": "976965b4",
   "metadata": {},
   "outputs": [
    {
     "name": "stdout",
     "output_type": "stream",
     "text": [
      "enter the number:10\n",
      "log of the number 10.0 is 2.302585092994046\n"
     ]
    }
   ],
   "source": [
    "import math\n",
    "def log(n):\n",
    "    n=float(input(\"enter the number:\"))\n",
    "    print(\"log of the number\",n,\"is\",math.log(n))\n",
    "log(n)\n",
    "    "
   ]
  },
  {
   "cell_type": "markdown",
   "id": "dcb42e8e",
   "metadata": {},
   "source": [
    "Write a Python Program for cube sum of first n natural numbers?"
   ]
  },
  {
   "cell_type": "code",
   "execution_count": 6,
   "id": "d201cdbd",
   "metadata": {},
   "outputs": [
    {
     "name": "stdout",
     "output_type": "stream",
     "text": [
      "enter the integer:3\n",
      "36\n"
     ]
    }
   ],
   "source": [
    "def cubesum(n):\n",
    "    n=int(input(\"enter the integer:\"))\n",
    "    sum=0\n",
    "    for i in range(1,n+1):\n",
    "        i=i**3\n",
    "        sum+=i\n",
    "    print(sum)\n",
    "cubesum(n)\n",
    "    "
   ]
  },
  {
   "cell_type": "code",
   "execution_count": null,
   "id": "4c1edc0f",
   "metadata": {},
   "outputs": [],
   "source": []
  }
 ],
 "metadata": {
  "kernelspec": {
   "display_name": "Python 3 (ipykernel)",
   "language": "python",
   "name": "python3"
  },
  "language_info": {
   "codemirror_mode": {
    "name": "ipython",
    "version": 3
   },
   "file_extension": ".py",
   "mimetype": "text/x-python",
   "name": "python",
   "nbconvert_exporter": "python",
   "pygments_lexer": "ipython3",
   "version": "3.9.12"
  }
 },
 "nbformat": 4,
 "nbformat_minor": 5
}
