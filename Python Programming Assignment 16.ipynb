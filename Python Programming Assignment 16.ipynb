{
 "cells": [
  {
   "cell_type": "markdown",
   "id": "cbd20a7d",
   "metadata": {},
   "source": [
    "Question1. Write a function that stutters a word as if someone is struggling to read it. The\n",
    "first two letters are repeated twice with an ellipsis ... and space after each, and then the\n",
    "word is pronounced with a question mark ?."
   ]
  },
  {
   "cell_type": "code",
   "execution_count": 57,
   "id": "bf62fa50",
   "metadata": {},
   "outputs": [
    {
     "name": "stdout",
     "output_type": "stream",
     "text": [
      "Enter the string:incredible\n",
      "in... in... incredible?\n"
     ]
    }
   ],
   "source": [
    "def stutter():\n",
    "    x=input(\"Enter the string:\")\n",
    "    l=[]\n",
    "    p=\"\"\n",
    "    for i in range(0,2):\n",
    "        l.append(x[i])\n",
    "    l.append(\"... \")\n",
    "    for i in range(0,2):\n",
    "        l.append(x[i])\n",
    "    l.append(\"... \")\n",
    "    l.append(x)\n",
    "    l.append(\"?\")\n",
    "    print(p.join(l))\n",
    "    \n",
    "    \n",
    "stutter()"
   ]
  },
  {
   "cell_type": "markdown",
   "id": "5b27427b",
   "metadata": {},
   "source": [
    "Question 2.Create a function that takes an angle in radians and returns the corresponding\n",
    "angle in degrees rounded to one decimal place.\n",
    "    "
   ]
  },
  {
   "cell_type": "code",
   "execution_count": 226,
   "id": "7ab27fae",
   "metadata": {},
   "outputs": [
    {
     "name": "stdout",
     "output_type": "stream",
     "text": [
      "enter the angle in radians:50\n",
      "2864.7889756541163\n",
      "2864.8\n"
     ]
    }
   ],
   "source": [
    "def radians_to_degree():\n",
    "    x=float(input(\"enter the angle in radians:\"))\n",
    "    k= \".\"\n",
    "    import math\n",
    "    y=str(math.degrees(x))\n",
    "    print(y)\n",
    "    p=y.split(\".\")\n",
    "    if p[1][1] <= str(5):\n",
    "        \n",
    "        p[1]=p[1][0]\n",
    "    elif p[1][1] > str(5):\n",
    "        p[1] = str(int(p[1][0]) +1)\n",
    "    k=\".\".join(p)\n",
    "    print(k)\n",
    "\n",
    "radians_to_degree()"
   ]
  },
  {
   "cell_type": "markdown",
   "id": "bc0c98cd",
   "metadata": {},
   "source": [
    "Question 3. In this challenge, establish if a given integer num is a Curzon number. If 1 plus\n",
    "2 elevated to num is exactly divisible by 1 plus 2 multiplied by num, then num is a Curzon\n",
    "number.\n",
    "Given a non-negative integer num, implement a function that returns True if num is a Curzon\n",
    "number, or False otherwise."
   ]
  },
  {
   "cell_type": "code",
   "execution_count": 231,
   "id": "a9cbf402",
   "metadata": {},
   "outputs": [
    {
     "name": "stdout",
     "output_type": "stream",
     "text": [
      "Enter a non negative integer14\n"
     ]
    },
    {
     "data": {
      "text/plain": [
       "True"
      ]
     },
     "execution_count": 231,
     "metadata": {},
     "output_type": "execute_result"
    }
   ],
   "source": [
    "\n",
    "def is_curzon():\n",
    "    n=int(input(\"Enter a non negative integer\"))\n",
    "    y=(2**n)+1\n",
    "    z=(2*n)+1\n",
    "    if y % z == 0:\n",
    "        return True\n",
    "    else:\n",
    "        return False\n",
    "is_curzon()"
   ]
  },
  {
   "cell_type": "markdown",
   "id": "efd28636",
   "metadata": {},
   "source": [
    "Question 4.Given the side length x find the area of a hexagon."
   ]
  },
  {
   "cell_type": "code",
   "execution_count": 238,
   "id": "40eb466f",
   "metadata": {},
   "outputs": [
    {
     "name": "stdout",
     "output_type": "stream",
     "text": [
      "Enter the side length:3\n",
      "Area is 23.4\n"
     ]
    }
   ],
   "source": [
    "def hex_area():\n",
    "    x=int(input(\"Enter the side length:\"))\n",
    "    import math\n",
    "    Area = str(3*(math.sqrt(3)) * (x**2)/2)\n",
    "    Arr = Area.split(\".\")\n",
    "    if Arr[1][1] <= str(5):\n",
    "        Arr[1]=Arr[1][0]\n",
    "    elif Arr[1][1] > str(5):\n",
    "        Arr[1] = str(int(Arr[1][0])+1)\n",
    "    k=\".\".join(Arr)\n",
    "    print(\"Area is\",k)\n",
    "        \n",
    "    \n",
    "\n",
    "\n",
    "hex_area()"
   ]
  },
  {
   "cell_type": "markdown",
   "id": "989f185b",
   "metadata": {},
   "source": [
    "Question 5. Create a function that returns a base-2 (binary) representation of a base-10\n",
    "(decimal) string number. To convert is simple: ((2) means base-2 and (10) means base-10)\n",
    "010101001(2) = 1 + 8 + 32 + 128.\n",
    "Going from right to left, the value of the most right bit is 1, now from that every bit to the left\n",
    "will be x2 the value, value of an 8 bit binary numbers are (256, 128, 64, 32, 16, 8, 4, 2, 1)."
   ]
  },
  {
   "cell_type": "code",
   "execution_count": 61,
   "id": "f8f0b07e",
   "metadata": {},
   "outputs": [
    {
     "name": "stdout",
     "output_type": "stream",
     "text": [
      "Enter the binary number:1010\n",
      "output is 10\n"
     ]
    }
   ],
   "source": [
    "def binary():\n",
    "    import numpy as np\n",
    "    l=[]\n",
    "    l1=[]\n",
    "    x=str(int(input(\"Enter the binary number:\"))) \n",
    "    for i in range(len(x)):\n",
    "        ele= (2**i)\n",
    "        l.append(ele)\n",
    "    for i in x:\n",
    "        l1.append(int(i))\n",
    "    l1=l1[::-1]\n",
    "    k= np.array(l1) @ np.array(l)\n",
    "    print(\"output is\",k)\n",
    "\n",
    "    \n",
    "\n",
    "\n",
    "    \n",
    "binary()"
   ]
  },
  {
   "cell_type": "code",
   "execution_count": null,
   "id": "e5c729c1",
   "metadata": {},
   "outputs": [],
   "source": []
  },
  {
   "cell_type": "code",
   "execution_count": null,
   "id": "9a953d89",
   "metadata": {},
   "outputs": [],
   "source": []
  },
  {
   "cell_type": "code",
   "execution_count": null,
   "id": "ad6f4ed7",
   "metadata": {},
   "outputs": [],
   "source": []
  }
 ],
 "metadata": {
  "kernelspec": {
   "display_name": "Python 3 (ipykernel)",
   "language": "python",
   "name": "python3"
  },
  "language_info": {
   "codemirror_mode": {
    "name": "ipython",
    "version": 3
   },
   "file_extension": ".py",
   "mimetype": "text/x-python",
   "name": "python",
   "nbconvert_exporter": "python",
   "pygments_lexer": "ipython3",
   "version": "3.9.12"
  }
 },
 "nbformat": 4,
 "nbformat_minor": 5
}
