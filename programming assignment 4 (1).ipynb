{
 "cells": [
  {
   "cell_type": "markdown",
   "id": "3e89fc63",
   "metadata": {},
   "source": [
    "Write a Python Program to Find the Factorial of a Number?\n",
    "        \n",
    "    "
   ]
  },
  {
   "cell_type": "code",
   "execution_count": 95,
   "id": "c973054b",
   "metadata": {},
   "outputs": [
    {
     "name": "stdout",
     "output_type": "stream",
     "text": [
      "number:7\n",
      "5040\n"
     ]
    }
   ],
   "source": [
    "n=int(input(\"number:\"))\n",
    "f=1\n",
    "if n<0:\n",
    "    print(\"factorial doesnt exist for negative numbers\")\n",
    "elif n==0:\n",
    "    print(\"factorial is 1\")\n",
    "else:\n",
    "    for i in range(1,n+1):\n",
    "        f=f*i\n",
    "print(f)\n",
    "\n"
   ]
  },
  {
   "cell_type": "markdown",
   "id": "7d40cab5",
   "metadata": {},
   "source": [
    "Write a Python Program to Display the multiplication Table?"
   ]
  },
  {
   "cell_type": "code",
   "execution_count": 32,
   "id": "86a328c0",
   "metadata": {},
   "outputs": [
    {
     "name": "stdout",
     "output_type": "stream",
     "text": [
      "number78\n",
      "78 x 1 = 78\n",
      "78 x 2 = 156\n",
      "78 x 3 = 234\n",
      "78 x 4 = 312\n",
      "78 x 5 = 390\n",
      "78 x 6 = 468\n",
      "78 x 7 = 546\n",
      "78 x 8 = 624\n",
      "78 x 9 = 702\n",
      "78 x 10 = 780\n"
     ]
    }
   ],
   "source": [
    "n=int(input(\"number\"))\n",
    "for i in  range(1,11):\n",
    "    \n",
    "    print(n,\"x\",i,\"=\",n*i)"
   ]
  },
  {
   "cell_type": "markdown",
   "id": "ebd8f650",
   "metadata": {},
   "source": [
    "Write a Python Program to Print the Fibonacci sequence?\n"
   ]
  },
  {
   "cell_type": "code",
   "execution_count": 33,
   "id": "a185c7e6",
   "metadata": {},
   "outputs": [],
   "source": [
    "def genfib(n):\n",
    "    a=1\n",
    "    b=1\n",
    "    for i in range(n):\n",
    "        yield a\n",
    "        a,b=b,a+b\n"
   ]
  },
  {
   "cell_type": "code",
   "execution_count": 34,
   "id": "c0bcc180",
   "metadata": {},
   "outputs": [
    {
     "name": "stdout",
     "output_type": "stream",
     "text": [
      "1\n",
      "1\n",
      "2\n",
      "3\n",
      "5\n",
      "8\n",
      "13\n",
      "21\n",
      "34\n",
      "55\n"
     ]
    }
   ],
   "source": [
    "for i in genfib(10):\n",
    "    print(i)"
   ]
  },
  {
   "cell_type": "markdown",
   "id": "142fedda",
   "metadata": {},
   "source": [
    "Write a Python Program to Check Armstrong Number?"
   ]
  },
  {
   "cell_type": "code",
   "execution_count": 41,
   "id": "75e1c406",
   "metadata": {},
   "outputs": [
    {
     "name": "stdout",
     "output_type": "stream",
     "text": [
      "enter number:66\n",
      "this is not an armstrong number\n"
     ]
    }
   ],
   "source": [
    "num=int(input(\"enter number:\"))\n",
    "order=len(str(num))\n",
    "sum=0\n",
    "copy_n=num\n",
    "for i in range(1,num):\n",
    "    digits=num%10\n",
    "    sum+=digits**order\n",
    "    num=num//10\n",
    "if sum==copy_n:\n",
    "    print(\"this is an armstrong number\")\n",
    "    \n",
    "    \n",
    "else:\n",
    "    print(\"this is not an armstrong number\")\n",
    "    \n",
    "       "
   ]
  },
  {
   "cell_type": "markdown",
   "id": "aa5c4838",
   "metadata": {},
   "source": [
    "5. Write a Python Program to Find Armstrong Number in an Interval?"
   ]
  },
  {
   "cell_type": "code",
   "execution_count": 98,
   "id": "86f831af",
   "metadata": {},
   "outputs": [
    {
     "name": "stdout",
     "output_type": "stream",
     "text": [
      "first number:1\n",
      "second number1000\n",
      "2\n",
      "3\n",
      "4\n",
      "5\n",
      "6\n",
      "7\n",
      "8\n",
      "9\n",
      "153\n",
      "370\n",
      "371\n",
      "407\n"
     ]
    }
   ],
   "source": [
    "num1=int(input(\"first number:\"))\n",
    "num2=int(input(\"second number\"))\n",
    "for n in range(num1,num2+1):\n",
    "    sum=0\n",
    "    order=(len(str(n)))\n",
    "    n=n+1\n",
    "    copy_n=n\n",
    "    while n>0:\n",
    "        digits=n%10\n",
    "        sum+=digits**order\n",
    "        n=n//10\n",
    "    if sum==copy_n:\n",
    "        print(copy_n)\n",
    "    \n",
    "           \n",
    "    \n",
    "            "
   ]
  },
  {
   "cell_type": "markdown",
   "id": "9ebe5f61",
   "metadata": {},
   "source": [
    "6. Write a Python Program to Find the Sum of Natural Numbers?"
   ]
  },
  {
   "cell_type": "code",
   "execution_count": 100,
   "id": "e5a76c86",
   "metadata": {},
   "outputs": [
    {
     "name": "stdout",
     "output_type": "stream",
     "text": [
      "first number:10\n",
      "55\n"
     ]
    }
   ],
   "source": [
    "a=int(input(\"first number:\"))\n",
    "sum=0\n",
    "if a==0:\n",
    "    \n",
    "    print(\"enter a posiive ineger\")\n",
    "if a<0:\n",
    "    print(\"enter a positive integer\")\n",
    "for n in range(1,a+1):\n",
    "    if n>0:\n",
    "        sum+=n\n",
    "        n=-1\n",
    "print(sum)\n",
    "    \n",
    "    \n",
    "   \n",
    "\n",
    "        \n",
    "    \n",
    "    \n",
    "        \n",
    "  "
   ]
  },
  {
   "cell_type": "code",
   "execution_count": null,
   "id": "4417855e",
   "metadata": {},
   "outputs": [],
   "source": []
  },
  {
   "cell_type": "code",
   "execution_count": null,
   "id": "8dcd06e6",
   "metadata": {},
   "outputs": [],
   "source": []
  }
 ],
 "metadata": {
  "kernelspec": {
   "display_name": "Python 3 (ipykernel)",
   "language": "python",
   "name": "python3"
  },
  "language_info": {
   "codemirror_mode": {
    "name": "ipython",
    "version": 3
   },
   "file_extension": ".py",
   "mimetype": "text/x-python",
   "name": "python",
   "nbconvert_exporter": "python",
   "pygments_lexer": "ipython3",
   "version": "3.9.12"
  }
 },
 "nbformat": 4,
 "nbformat_minor": 5
}
