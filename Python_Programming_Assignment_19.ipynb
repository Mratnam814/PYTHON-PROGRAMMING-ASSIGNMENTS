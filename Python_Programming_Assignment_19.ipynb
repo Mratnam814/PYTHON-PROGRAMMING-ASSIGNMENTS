{
 "cells": [
  {
   "cell_type": "markdown",
   "id": "0efd292e",
   "metadata": {},
   "source": [
    "Create a function that takes a string and returns a string in which each character is repeated\n",
    "once."
   ]
  },
  {
   "cell_type": "code",
   "execution_count": 12,
   "id": "cee1ae9b",
   "metadata": {},
   "outputs": [
    {
     "name": "stdout",
     "output_type": "stream",
     "text": [
      "SSttrriinngg"
     ]
    }
   ],
   "source": [
    "def double_char(n):\n",
    "    for i in n:\n",
    "        print(i+i,end=\"\")\n",
    "double_char(\"String\")"
   ]
  },
  {
   "cell_type": "markdown",
   "id": "1343334e",
   "metadata": {},
   "source": [
    "Create a function that reverses a boolean value and returns the string &quot;boolean expected&quot;\n",
    "if another variable type is given."
   ]
  },
  {
   "cell_type": "code",
   "execution_count": 23,
   "id": "da1837cc",
   "metadata": {},
   "outputs": [
    {
     "data": {
      "text/plain": [
       "'Boolean Expected'"
      ]
     },
     "execution_count": 23,
     "metadata": {},
     "output_type": "execute_result"
    }
   ],
   "source": [
    "def reverse(n):\n",
    "    if n == bool:\n",
    "        if n == True:\n",
    "            return False\n",
    "        elif n == False:\n",
    "            return True\n",
    "    else:\n",
    "        return \"Boolean Expected\"\n",
    "       \n",
    "    \n",
    "        \n",
    "\n",
    "reverse(\"0\")"
   ]
  },
  {
   "cell_type": "markdown",
   "id": "accfd690",
   "metadata": {},
   "source": [
    "Question3\n",
    "Create a function that returns the thickness (in meters) of a piece of paper after folding it n\n",
    "number of times. The paper starts off with a thickness of 0.5mm."
   ]
  },
  {
   "cell_type": "code",
   "execution_count": 28,
   "id": "634427c8",
   "metadata": {},
   "outputs": [
    {
     "data": {
      "text/plain": [
       "1048.576"
      ]
     },
     "execution_count": 28,
     "metadata": {},
     "output_type": "execute_result"
    }
   ],
   "source": [
    "def paper_folding(n):\n",
    "    thickness = 0.5\n",
    "    for i in range(n):\n",
    "        thickness = thickness*2 \n",
    "    thick = thickness/1000\n",
    "    return(thick)\n",
    "paper_folding(21)\n",
    "        "
   ]
  },
  {
   "cell_type": "markdown",
   "id": "cef0c0c5",
   "metadata": {},
   "source": [
    "Question4\n",
    "\n",
    "Create a function that takes a single string as argument and returns an ordered list containing\n",
    "the indices of all capital letters in the string."
   ]
  },
  {
   "cell_type": "code",
   "execution_count": 49,
   "id": "fd940e7d",
   "metadata": {},
   "outputs": [
    {
     "data": {
      "text/plain": [
       "[0, 2, 5]"
      ]
     },
     "execution_count": 49,
     "metadata": {},
     "output_type": "execute_result"
    }
   ],
   "source": [
    "def capital_letter_count(n):\n",
    "    l=[]\n",
    "    for i in n:\n",
    "        if i.isupper():\n",
    "            l.append(n.index(i))\n",
    "    return l\n",
    "capital_letter_count(\"BrAckEt\")"
   ]
  },
  {
   "cell_type": "markdown",
   "id": "76145594",
   "metadata": {},
   "source": [
    "Question5\n",
    "Using list comprehensions, create a function that finds all even numbers from 1 to the given\n",
    "number."
   ]
  },
  {
   "cell_type": "code",
   "execution_count": 58,
   "id": "5a57bfe6",
   "metadata": {},
   "outputs": [
    {
     "name": "stdout",
     "output_type": "stream",
     "text": [
      "[2, 4, 6, 8, 10]\n"
     ]
    }
   ],
   "source": [
    "def find_even_nums(n):\n",
    "    x=[i for i in range(1,n+1) if i%2==0]\n",
    "    print(x)\n",
    "find_even_nums(10)"
   ]
  },
  {
   "cell_type": "code",
   "execution_count": null,
   "id": "4130d572",
   "metadata": {},
   "outputs": [],
   "source": []
  }
 ],
 "metadata": {
  "kernelspec": {
   "display_name": "Python 3 (ipykernel)",
   "language": "python",
   "name": "python3"
  },
  "language_info": {
   "codemirror_mode": {
    "name": "ipython",
    "version": 3
   },
   "file_extension": ".py",
   "mimetype": "text/x-python",
   "name": "python",
   "nbconvert_exporter": "python",
   "pygments_lexer": "ipython3",
   "version": "3.9.12"
  }
 },
 "nbformat": 4,
 "nbformat_minor": 5
}
