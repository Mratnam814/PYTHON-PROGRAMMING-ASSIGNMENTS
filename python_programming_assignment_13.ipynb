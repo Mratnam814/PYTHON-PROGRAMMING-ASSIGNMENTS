{
 "cells": [
  {
   "cell_type": "raw",
   "id": "da8861b3",
   "metadata": {},
   "source": [
    "Question 1:\n",
    "Write a program that calculates and prints the value according to the given formula:\n",
    "Q = Square root of [(2 * C * D)/H]\n",
    "Following are the fixed values of C and H:\n",
    "C is 50. H is 30.\n",
    "D is the variable whose values should be input to your program in a comma-separated\n",
    "sequence.\n",
    "Example\n",
    "Let us assume the following comma separated input sequence is given to the program:\n",
    "100,150,180\n",
    "The output of the program should be:\n",
    "18,22,24"
   ]
  },
  {
   "cell_type": "code",
   "execution_count": 46,
   "id": "e869f8d2",
   "metadata": {},
   "outputs": [
    {
     "name": "stdout",
     "output_type": "stream",
     "text": [
      "enter the series of numbers:100,150,180\n",
      "output:18,22,24\n"
     ]
    }
   ],
   "source": [
    "from math import sqrt\n",
    "D=eval(input(\"enter the series of numbers:\"))\n",
    "C=50\n",
    "H=30\n",
    "l=[]\n",
    "for ele in D:\n",
    "    Q=str(int(sqrt((2*C*ele)/H)))\n",
    "    l.append(Q)\n",
    "print(\"output:{}\".format(\",\".join(l)))\n",
    "    "
   ]
  },
  {
   "cell_type": "raw",
   "id": "277f4161",
   "metadata": {},
   "source": [
    "Question 2:\n",
    "Write a program which takes 2 digits, X,Y as input and generates a 2-dimensional array. The\n",
    "element value in the i-th row and j-th column of the array should be i*j.\n",
    "Note: i=0,1.., X-1; j=0,1,¡Y-1.\n",
    "Example\n",
    "Suppose the following inputs are given to the program:\n",
    "3,5\n",
    "Then, the output of the program should be:\n",
    "[[0, 0, 0, 0, 0], [0, 1, 2, 3, 4], [0, 2, 4, 6, 8]]"
   ]
  },
  {
   "cell_type": "code",
   "execution_count": 74,
   "id": "2277a51d",
   "metadata": {},
   "outputs": [
    {
     "name": "stdout",
     "output_type": "stream",
     "text": [
      "enter the number of columns:3\n",
      "enter the number of rows:5\n",
      "[[0, 0, 0, 0, 0], [0, 1, 2, 3, 4], [0, 2, 4, 6, 8]]\n"
     ]
    }
   ],
   "source": [
    "x=int(input(\"enter the number of columns:\"))\n",
    "y=int(input(\"enter the number of rows:\"))\n",
    "l=[]\n",
    "for i in range(x):\n",
    "    row=[]\n",
    "    for j in range(y):\n",
    "        ele=i*j\n",
    "        row.append(ele)\n",
    "    l.append(row)\n",
    "print(l)\n",
    "    \n"
   ]
  },
  {
   "cell_type": "raw",
   "id": "0cbf4f29",
   "metadata": {},
   "source": [
    "Question 3:\n",
    "Write a program that accepts a comma separated sequence of words as input and prints the\n",
    "words in a comma-separated sequence after sorting them alphabetically.\n",
    "Suppose the following input is supplied to the program:\n",
    "without,hello,bag,world\n",
    "Then, the output should be\n",
    "bag,hello,without,world"
   ]
  },
  {
   "cell_type": "code",
   "execution_count": 122,
   "id": "172d0745",
   "metadata": {},
   "outputs": [
    {
     "name": "stdout",
     "output_type": "stream",
     "text": [
      "enter the words:without,hello,bag,world\n",
      "output : bag,hello,without,world\n"
     ]
    }
   ],
   "source": [
    "words=input(\"enter the words:\")\n",
    "words=words.split(',')\n",
    "\n",
    "print(\"output :\",','.join(sorted(words)))"
   ]
  },
  {
   "cell_type": "raw",
   "id": "794b87c9",
   "metadata": {},
   "source": [
    "Question 4:\n",
    "Write a program that accepts a sequence of whitespace separated words as input and prints\n",
    "the words after removing all duplicate words and sorting them alphanumerically.\n",
    "Suppose the following input is supplied to the program:\n",
    "hello world and practice makes perfect and hello world again\n",
    "Then, the output should be:\n",
    "again and hello makes perfect practice world"
   ]
  },
  {
   "cell_type": "code",
   "execution_count": 186,
   "id": "8f39e785",
   "metadata": {},
   "outputs": [
    {
     "name": "stdout",
     "output_type": "stream",
     "text": [
      "enter the sentence:hello world and practice makes perfect and hello world again\n",
      "output: again and hello makes perfect practice world\n"
     ]
    }
   ],
   "source": [
    "words=input(\"enter the sentence:\")\n",
    "words=words.split()\n",
    "l=[]\n",
    "for i in words:\n",
    "    if i not in l:\n",
    "        l.append(i)\n",
    "print(\"output:\",\" \".join(sorted(l)))\n",
    "    \n",
    "\n",
    "    "
   ]
  },
  {
   "cell_type": "raw",
   "id": "434cc44e",
   "metadata": {},
   "source": [
    "Question 5:\n",
    "Write a program that accepts a sentence and calculate the number of letters and digits.\n",
    "Suppose the following input is supplied to the program:\n",
    "hello world! 123\n",
    "Then, the output should be:\n",
    "LETTERS 10\n",
    "DIGITS 3"
   ]
  },
  {
   "cell_type": "code",
   "execution_count": 184,
   "id": "9a75b744",
   "metadata": {},
   "outputs": [
    {
     "name": "stdout",
     "output_type": "stream",
     "text": [
      "LETTERS 10\n",
      "DIGITS 3\n"
     ]
    }
   ],
   "source": [
    "s=\"hello world! 123\"\n",
    "count=0\n",
    "jod=0\n",
    "for i in s:\n",
    "    if i.isdigit()==True:\n",
    "        count+=1\n",
    "\n",
    "    elif i.isalpha()==True:\n",
    "        jod+=1\n",
    "print(\"LETTERS\" ,jod)\n",
    "print(\"DIGITS\" ,count)\n",
    "\n",
    "\n",
    "    \n",
    "    \n",
    "   \n"
   ]
  },
  {
   "cell_type": "raw",
   "id": "43bcca44",
   "metadata": {},
   "source": [
    "Question 6:\n",
    "A website requires the users to input username and password to register. Write a program to\n",
    "check the validity of password input by users.\n",
    "Following are the criteria for checking the password:\n",
    "1. At least 1 letter between [a-z]\n",
    "2. At least 1 number between [0-9]\n",
    "1. At least 1 letter between [A-Z]\n",
    "3. At least 1 character from [$#@]\n",
    "4. Minimum length of transaction password: 6\n",
    "5. Maximum length of transaction password: 12\n",
    "Your program should accept a sequence of comma separated passwords and will check them\n",
    "according to the above criteria. Passwords that match the criteria are to be printed, each\n",
    "separated by a comma.\n",
    "Example\n",
    "If the following passwords are given as input to the program:\n",
    "ABd1234@1,a F1#,2w3E*,2We3345\n",
    "Then, the output of the program should be:\n",
    "ABd1234@1"
   ]
  },
  {
   "cell_type": "code",
   "execution_count": 263,
   "id": "7a46b966",
   "metadata": {},
   "outputs": [
    {
     "name": "stdout",
     "output_type": "stream",
     "text": [
      "enter the string:ABd1234@1,a F1#,2w3E*,2We3345\n",
      "ABd1234@1,a\n"
     ]
    }
   ],
   "source": [
    "password=input(\"enter the string:\")\n",
    "spl_chr=\"@#$\"\n",
    "for i in password.split():\n",
    "    if len(i)>=6 and len(i)<=12:\n",
    "         if any(e.isupper() for e in i):\n",
    "                 if any(e.islower() for e in i):\n",
    "                        if any(e.isdigit for e in i):\n",
    "                            for e in i:\n",
    "                                if e in spl_chr:\n",
    "                                    print(i)\n",
    "                            \n",
    "                           \n",
    "                                \n",
    "                           \n",
    "                                \n",
    "                            \n",
    "            \n",
    "       \n",
    "   \n",
    "                \n",
    "               "
   ]
  },
  {
   "cell_type": "code",
   "execution_count": null,
   "id": "953ab6aa",
   "metadata": {},
   "outputs": [],
   "source": []
  },
  {
   "cell_type": "code",
   "execution_count": null,
   "id": "7dbba2e9",
   "metadata": {},
   "outputs": [],
   "source": []
  },
  {
   "cell_type": "code",
   "execution_count": null,
   "id": "fc49218c",
   "metadata": {},
   "outputs": [],
   "source": []
  },
  {
   "cell_type": "code",
   "execution_count": null,
   "id": "1ce4733b",
   "metadata": {},
   "outputs": [],
   "source": []
  }
 ],
 "metadata": {
  "kernelspec": {
   "display_name": "Python 3 (ipykernel)",
   "language": "python",
   "name": "python3"
  },
  "language_info": {
   "codemirror_mode": {
    "name": "ipython",
    "version": 3
   },
   "file_extension": ".py",
   "mimetype": "text/x-python",
   "name": "python",
   "nbconvert_exporter": "python",
   "pygments_lexer": "ipython3",
   "version": "3.9.12"
  }
 },
 "nbformat": 4,
 "nbformat_minor": 5
}
