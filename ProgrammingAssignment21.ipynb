{
 "cells": [
  {
   "cell_type": "code",
   "execution_count": null,
   "id": "ccfaa8ac",
   "metadata": {},
   "outputs": [],
   "source": [
    "Question1\n",
    "Write a function that takes a list and a number as arguments. Add the number to the end of\n",
    "the list, then remove the first element of the list. The function should then return the updated\n",
    "list."
   ]
  },
  {
   "cell_type": "code",
   "execution_count": 15,
   "id": "052ce927",
   "metadata": {},
   "outputs": [
    {
     "data": {
      "text/plain": [
       "[6, 7, 8, 9, 1]"
      ]
     },
     "execution_count": 15,
     "metadata": {},
     "output_type": "execute_result"
    }
   ],
   "source": [
    "def next_in_line(n,p):\n",
    "    n.pop(0)\n",
    "    n.insert(len(n),p)\n",
    "    return n\n",
    "next_in_line([5, 6, 7, 8, 9], 1)\n",
    "    \n",
    "    "
   ]
  },
  {
   "cell_type": "markdown",
   "id": "dafc2256",
   "metadata": {},
   "source": [
    "Question2\n",
    "Create the function that takes a list of dictionaries and returns the sum of people&#39;s budgets."
   ]
  },
  {
   "cell_type": "code",
   "execution_count": 83,
   "id": "55d7f4f6",
   "metadata": {},
   "outputs": [
    {
     "name": "stdout",
     "output_type": "stream",
     "text": [
      "65700\n"
     ]
    }
   ],
   "source": [
    "def get_budgets(k):\n",
    "    \n",
    "    l=[]\n",
    "    for i in k:\n",
    "        for j in i:\n",
    "            if type(j) == str:\n",
    "                sum=0\n",
    "                if j == \"budget\":\n",
    "                    l.append(i[j])\n",
    "    sum=0\n",
    "    for i in l:\n",
    "        sum=sum+i\n",
    "    print(sum)\n",
    "get_budgets(k=[ { \"name\": \"John\", \"age\": 21, \"budget\": 23000 }, { \"name\": \"Steve\", \"age\": 32, \"budget\": 40000 }, { \"name\": \"Martin\", \"age\": 16, \"budget\": 2700 } ])\n",
    "    "
   ]
  },
  {
   "cell_type": "markdown",
   "id": "03439801",
   "metadata": {},
   "source": [
    "Question3\n",
    "Create a function that takes a string and returns a string with its letters in alphabetical order."
   ]
  },
  {
   "cell_type": "code",
   "execution_count": 2,
   "id": "827e0380",
   "metadata": {},
   "outputs": [
    {
     "data": {
      "text/plain": [
       "'ehllo'"
      ]
     },
     "execution_count": 2,
     "metadata": {},
     "output_type": "execute_result"
    }
   ],
   "source": [
    "def alphabet_soup(n):\n",
    "    l=[]\n",
    "    l1=[]\n",
    "    for i in n:\n",
    "        l.append(ord(i))\n",
    "        l.sort()\n",
    "    for i in l:\n",
    "        l1.append(chr(i))\n",
    "    k=\"\".join(l1)\n",
    "    return k\n",
    "alphabet_soup(\"hello\") \n",
    "    "
   ]
  },
  {
   "cell_type": "markdown",
   "id": "a75d0efe",
   "metadata": {},
   "source": [
    "Question4\n",
    "Suppose that you invest $10,000 for 10 years at an interest rate of 6% compounded monthly.\n",
    "What will be the value of your investment at the end of the 10 year period?\n",
    "Create a function that accepts the principal p, the term in years t, the interest rate r, and the\n",
    "number of compounding periods per year n. The function returns the value at the end of term\n",
    "rounded to the nearest cent.\n",
    "For the example above:\n",
    "compound_interest(10000, 10, 0.06, 12) ➞ 18193.97\n",
    "Note that the interest rate is given as a decimal and n=12 because with monthly compounding\n",
    "there are 12 periods per year. Compounding can also be done annually, quarterly, weekly, or\n",
    "daily."
   ]
  },
  {
   "cell_type": "code",
   "execution_count": 16,
   "id": "05ccf0c6",
   "metadata": {},
   "outputs": [
    {
     "data": {
      "text/plain": [
       "14620.368592954797"
      ]
     },
     "execution_count": 16,
     "metadata": {},
     "output_type": "execute_result"
    }
   ],
   "source": [
    "def compound_interest(p,t,r,n):\n",
    "    A = p*(1+r)**(t)\n",
    "    return A\n",
    "    \n",
    "\n",
    "\n",
    "compound_interest(3500,15,0.1,4)     "
   ]
  },
  {
   "cell_type": "markdown",
   "id": "ebd8e1f3",
   "metadata": {},
   "source": [
    "Question5\n",
    "Write a function that takes a list of elements and returns only the integers."
   ]
  },
  {
   "cell_type": "code",
   "execution_count": 19,
   "id": "fde42dcb",
   "metadata": {},
   "outputs": [
    {
     "data": {
      "text/plain": [
       "[9, 2, 16]"
      ]
     },
     "execution_count": 19,
     "metadata": {},
     "output_type": "execute_result"
    }
   ],
   "source": [
    "def return_only_integer(n):\n",
    "    l=[]\n",
    "    for i in n:\n",
    "        if type(i) == int:\n",
    "            l.append(i)\n",
    "    return l\n",
    "return_only_integer([9, 2, \"space\", \"car\", \"lion\", 16])     "
   ]
  },
  {
   "cell_type": "markdown",
   "id": "1b5372e7",
   "metadata": {},
   "source": []
  },
  {
   "cell_type": "code",
   "execution_count": null,
   "id": "e4eae82d",
   "metadata": {},
   "outputs": [],
   "source": []
  }
 ],
 "metadata": {
  "kernelspec": {
   "display_name": "Python 3 (ipykernel)",
   "language": "python",
   "name": "python3"
  },
  "language_info": {
   "codemirror_mode": {
    "name": "ipython",
    "version": 3
   },
   "file_extension": ".py",
   "mimetype": "text/x-python",
   "name": "python",
   "nbconvert_exporter": "python",
   "pygments_lexer": "ipython3",
   "version": "3.9.12"
  }
 },
 "nbformat": 4,
 "nbformat_minor": 5
}
