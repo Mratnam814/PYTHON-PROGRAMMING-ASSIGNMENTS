{
 "cells": [
  {
   "cell_type": "markdown",
   "id": "9f063aed",
   "metadata": {},
   "source": [
    "Question1. Create a function that takes three arguments a, b, c and returns the sum of the\n",
    "numbers that are evenly divided by c from the range a, b inclusive."
   ]
  },
  {
   "cell_type": "code",
   "execution_count": 19,
   "id": "233eb361",
   "metadata": {},
   "outputs": [
    {
     "name": "stdout",
     "output_type": "stream",
     "text": [
      "It is evenly divided by 2\n",
      "It cannot be evenly divided by 20\n",
      "It is evenly divided by 3\n"
     ]
    }
   ],
   "source": [
    "def even_division(a,b,c):\n",
    "    l=[]\n",
    "    for i in range(a+1,b+1,c):\n",
    "        l.append(i)\n",
    "    sum=0\n",
    "    for i in l:\n",
    "        sum=sum+i\n",
    "    if sum % c == 0:\n",
    "        print(\"It is evenly divided by\",c)\n",
    "    else:\n",
    "        print(\"It cannot be evenly divided by\",c)\n",
    "even_division(1,10,2)\n",
    "even_division(1,10,20)\n",
    "even_division(1,10,3)\n"
   ]
  },
  {
   "cell_type": "markdown",
   "id": "57fe25f0",
   "metadata": {},
   "source": [
    "Question2. Create a function that returns True if a given inequality expression is correct and\n",
    "False otherwise."
   ]
  },
  {
   "cell_type": "code",
   "execution_count": 25,
   "id": "f32e44ed",
   "metadata": {},
   "outputs": [
    {
     "name": "stdout",
     "output_type": "stream",
     "text": [
      "Enter the expression:4<9>126\n"
     ]
    },
    {
     "data": {
      "text/plain": [
       "False"
      ]
     },
     "execution_count": 25,
     "metadata": {},
     "output_type": "execute_result"
    }
   ],
   "source": [
    "def inequality_expressions():\n",
    "    n=eval(input(\"Enter the expression:\"))\n",
    "    if n == True:\n",
    "        return True\n",
    "    else:\n",
    "        return False\n",
    "inequality_expressions()"
   ]
  },
  {
   "cell_type": "markdown",
   "id": "f8dc5c66",
   "metadata": {},
   "source": [
    "Question3. Create a function that replaces all the vowels in a string with a specified character."
   ]
  },
  {
   "cell_type": "code",
   "execution_count": 64,
   "id": "42f3a852",
   "metadata": {},
   "outputs": [
    {
     "data": {
      "text/plain": [
       "'sh*k*sp**r*'"
      ]
     },
     "execution_count": 64,
     "metadata": {},
     "output_type": "execute_result"
    }
   ],
   "source": [
    "def vowel_replacement(string,replacement):\n",
    "    l=[]\n",
    "    vowel=\"AaEeIiOoUu\"\n",
    "    for i in string:\n",
    "        l.append(i)\n",
    "    for i in range(len(l)):\n",
    "        if l[i] in vowel:\n",
    "            l[i] = replacement\n",
    "    return \"\".join(l)\n",
    "\n",
    "    \n",
    "\n",
    "vowel_replacement(\"shakespeare\",\"*\")"
   ]
  },
  {
   "cell_type": "markdown",
   "id": "ed0c9df6",
   "metadata": {},
   "source": [
    "Question4. Write a function that calculates the factorial of a number recursively."
   ]
  },
  {
   "cell_type": "code",
   "execution_count": 68,
   "id": "39643a39",
   "metadata": {},
   "outputs": [
    {
     "data": {
      "text/plain": [
       "120"
      ]
     },
     "execution_count": 68,
     "metadata": {},
     "output_type": "execute_result"
    }
   ],
   "source": [
    "def factorial(n):\n",
    "    if n == 1:\n",
    "        return 1\n",
    "    else:\n",
    "        return (n*factorial(n-1))\n",
    "\n",
    "factorial(5)"
   ]
  },
  {
   "cell_type": "markdown",
   "id": "ed416855",
   "metadata": {},
   "source": [
    "Question 5\n",
    "Hamming distance is the number of characters that differ between two strings.\n",
    "Create a function that computes the hamming distance between two strings."
   ]
  },
  {
   "cell_type": "code",
   "execution_count": 77,
   "id": "50a7c4f8",
   "metadata": {},
   "outputs": [
    {
     "name": "stdout",
     "output_type": "stream",
     "text": [
      "Enter the string:abcde\n",
      "Enter the string:bcdef\n",
      "abcde\n",
      "bcdef\n",
      "hamming distance is 5\n"
     ]
    }
   ],
   "source": [
    "def hamming_distance():\n",
    "    str1=input(\"Enter the string:\")\n",
    "    str2=input(\"Enter the string:\")\n",
    "    print(str1)\n",
    "    print(str2)\n",
    "    l=[]\n",
    "    l1=[]\n",
    "    if len(str1) == len(str2):\n",
    "        for i in range(len(str1)):\n",
    "            l.append(str1[i])\n",
    "        for i in str2:\n",
    "            l1.append(i)\n",
    "    count=0\n",
    "    for i in range(len(l)):\n",
    "        if l[i] == l1[i]:\n",
    "            count=count+0\n",
    "        else:\n",
    "            count=count+1\n",
    "    print(\"hamming distance is\",count)\n",
    "        \n",
    "    \n",
    "hamming_distance()\n",
    "            \n",
    "                \n",
    "            \n",
    "        \n",
    "    \n",
    "\n"
   ]
  },
  {
   "cell_type": "code",
   "execution_count": 75,
   "id": "81362f7c",
   "metadata": {},
   "outputs": [
    {
     "data": {
      "text/plain": [
       "1"
      ]
     },
     "execution_count": 75,
     "metadata": {},
     "output_type": "execute_result"
    }
   ],
   "source": []
  },
  {
   "cell_type": "code",
   "execution_count": null,
   "id": "60c56569",
   "metadata": {},
   "outputs": [],
   "source": []
  }
 ],
 "metadata": {
  "kernelspec": {
   "display_name": "Python 3 (ipykernel)",
   "language": "python",
   "name": "python3"
  },
  "language_info": {
   "codemirror_mode": {
    "name": "ipython",
    "version": 3
   },
   "file_extension": ".py",
   "mimetype": "text/x-python",
   "name": "python",
   "nbconvert_exporter": "python",
   "pygments_lexer": "ipython3",
   "version": "3.9.12"
  }
 },
 "nbformat": 4,
 "nbformat_minor": 5
}
