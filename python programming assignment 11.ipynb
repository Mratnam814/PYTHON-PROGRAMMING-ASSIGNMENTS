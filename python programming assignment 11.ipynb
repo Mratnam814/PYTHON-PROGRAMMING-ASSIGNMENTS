{
 "cells": [
  {
   "cell_type": "markdown",
   "id": "73021cae",
   "metadata": {},
   "source": [
    "1. Write a Python program to find words which are greater than given length k?"
   ]
  },
  {
   "cell_type": "code",
   "execution_count": 38,
   "id": "ebd55a1a",
   "metadata": {},
   "outputs": [
    {
     "name": "stdout",
     "output_type": "stream",
     "text": [
      "enter the length3\n",
      "a\n",
      "n\n",
      "s\n",
      " \n",
      "a\n",
      "r\n",
      "e\n",
      " \n",
      "g\n",
      "o\n",
      "o\n",
      "d\n"
     ]
    }
   ],
   "source": [
    "def greater(s):\n",
    "    k=int(input(\"enter the length\"))\n",
    "    for i in range(k,len(s)):\n",
    "       \n",
    "        print(s[i])\n",
    "s='humans are good'\n",
    "greater(s)\n",
    "\n",
    "    \n",
    "    \n",
    "    "
   ]
  },
  {
   "cell_type": "markdown",
   "id": "2fde6e4c",
   "metadata": {},
   "source": [
    "2. Write a Python program for removing i-th character from a string?"
   ]
  },
  {
   "cell_type": "code",
   "execution_count": 126,
   "id": "94df9be8",
   "metadata": {},
   "outputs": [
    {
     "name": "stdout",
     "output_type": "stream",
     "text": [
      "enter the index of character:2\n",
      "Al modern humans are classified into the species Homo sapiens, coined by Carl Linnaeus in his 1735 work Systema Naturae."
     ]
    }
   ],
   "source": [
    "def remove(h):\n",
    "    i=int(input('enter the index of character:'))\n",
    "    for k in range(i):\n",
    "        print(h[k],end='')\n",
    "    for k in range(i+1,len(h)):\n",
    "        print(h[k],end='')\n",
    "p=\"All modern humans are classified into the species Homo sapiens, coined by Carl Linnaeus in his 1735 work Systema Naturae.\" \n",
    "remove(p)"
   ]
  },
  {
   "cell_type": "markdown",
   "id": "cf361002",
   "metadata": {},
   "source": [
    "3. Write a Python program to split and join a string?\n",
    "  "
   ]
  },
  {
   "cell_type": "code",
   "execution_count": 127,
   "id": "b4e9ec36",
   "metadata": {},
   "outputs": [
    {
     "name": "stdout",
     "output_type": "stream",
     "text": [
      "split= ['All', 'modern', 'humans', 'are', 'classified', 'into', 'the', 'species', 'Homo', 'sapiens,', 'coined', 'by', 'Carl', 'Linnaeus', 'in', 'his', '1735', 'work', 'Systema', 'Naturae.']\n",
      "join= All modern humans are classified into the species Homo sapiens, coined by Carl Linnaeus in his 1735 work Systema Naturae.\n"
     ]
    }
   ],
   "source": [
    "def split_joint(s):\n",
    "    print(\"split=\",s.split())\n",
    "    \n",
    "    \n",
    "    print(\"join=\",''.join(s))\n",
    "split_joint(p)\n",
    "    "
   ]
  },
  {
   "cell_type": "markdown",
   "id": "79936244",
   "metadata": {},
   "source": [
    "4. Write a Python to check if a given string is binary string or not?"
   ]
  },
  {
   "cell_type": "code",
   "execution_count": 146,
   "id": "e68e4ad9",
   "metadata": {},
   "outputs": [
    {
     "name": "stdout",
     "output_type": "stream",
     "text": [
      "binary hai bhai\n"
     ]
    }
   ],
   "source": [
    "def check(p):\n",
    "    flag=0\n",
    "    for i in p:\n",
    "        if i!='1' and i!='0':\n",
    "            flag+=1\n",
    "            break\n",
    "    if flag==0:\n",
    "        print(\"binary hai bhai\")\n",
    "    else:\n",
    "        print(\"binary nhi hai\")\n",
    "\n",
    "\n",
    "l1='010101010111'\n",
    "check(l1)\n"
   ]
  },
  {
   "cell_type": "markdown",
   "id": "afcc028a",
   "metadata": {},
   "source": [
    "5. Write a Python program to find uncommon words from two Strings?"
   ]
  },
  {
   "cell_type": "code",
   "execution_count": 280,
   "id": "77af57be",
   "metadata": {},
   "outputs": [
    {
     "name": "stdout",
     "output_type": "stream",
     "text": [
      "enter the string:sudhanshu sir is the best\n",
      "enter the string:krish naik sir is the best\n",
      "{'naik', 'sudhanshu', 'krish'}\n"
     ]
    }
   ],
   "source": [
    "def uncommon():\n",
    "    str1=set(input(\"enter the string:\").split())\n",
    "    str2=set(input(\"enter the string:\").split())\n",
    "    print(str1.symmetric_difference(str2))\n",
    "uncommon()\n",
    "        \n",
    "    \n",
    "    \n",
    "    "
   ]
  },
  {
   "cell_type": "markdown",
   "id": "bb9eb4c3",
   "metadata": {},
   "source": [
    "6. Write a Python to find all duplicate characters in string?"
   ]
  },
  {
   "cell_type": "code",
   "execution_count": 310,
   "id": "26f41be4",
   "metadata": {},
   "outputs": [
    {
     "name": "stdout",
     "output_type": "stream",
     "text": [
      "enter the string:hhbbssdfghjkl\n",
      "{'s', 'h', 'b'}\n"
     ]
    }
   ],
   "source": [
    "def duplicate():\n",
    "    str1=input(\"enter the string:\")\n",
    "    l=[]\n",
    "    for i in str1:\n",
    "        if str1.count(i)>1:\n",
    "            l.append(i)\n",
    "    print(set(l))\n",
    "duplicate()\n",
    "        "
   ]
  },
  {
   "cell_type": "markdown",
   "id": "23aa0159",
   "metadata": {},
   "source": [
    "7. Write a Python Program to check if a string contains any special character?"
   ]
  },
  {
   "cell_type": "code",
   "execution_count": 316,
   "id": "63fcbeac",
   "metadata": {},
   "outputs": [
    {
     "name": "stdout",
     "output_type": "stream",
     "text": [
      "enter the string@@##fbgdfgdf\n",
      "special charactered string\n"
     ]
    }
   ],
   "source": [
    "def special_char():\n",
    "    flag=0\n",
    "    str1=input(\"enter the string\")\n",
    "    p='[@_!#$%^&*()<>?/\\|}{~:]'\n",
    "    for i in str1:\n",
    "        if i in p:\n",
    "            flag=1\n",
    "            break\n",
    "    if flag==1:\n",
    "        print(\"special charactered string\")\n",
    "    else:\n",
    "        print(\"not special charactered\")\n",
    "special_char()\n",
    "    "
   ]
  },
  {
   "cell_type": "code",
   "execution_count": null,
   "id": "2235c30e",
   "metadata": {},
   "outputs": [],
   "source": []
  },
  {
   "cell_type": "code",
   "execution_count": null,
   "id": "fc72d691",
   "metadata": {},
   "outputs": [],
   "source": []
  },
  {
   "cell_type": "code",
   "execution_count": null,
   "id": "6582cbfc",
   "metadata": {},
   "outputs": [],
   "source": [
    "\n",
    "            "
   ]
  },
  {
   "cell_type": "code",
   "execution_count": 203,
   "id": "36cf0815",
   "metadata": {},
   "outputs": [
    {
     "data": {
      "text/plain": [
       "[]"
      ]
     },
     "execution_count": 203,
     "metadata": {},
     "output_type": "execute_result"
    }
   ],
   "source": []
  },
  {
   "cell_type": "code",
   "execution_count": null,
   "id": "5d63ec2a",
   "metadata": {},
   "outputs": [],
   "source": []
  }
 ],
 "metadata": {
  "kernelspec": {
   "display_name": "Python 3 (ipykernel)",
   "language": "python",
   "name": "python3"
  },
  "language_info": {
   "codemirror_mode": {
    "name": "ipython",
    "version": 3
   },
   "file_extension": ".py",
   "mimetype": "text/x-python",
   "name": "python",
   "nbconvert_exporter": "python",
   "pygments_lexer": "ipython3",
   "version": "3.9.12"
  }
 },
 "nbformat": 4,
 "nbformat_minor": 5
}
